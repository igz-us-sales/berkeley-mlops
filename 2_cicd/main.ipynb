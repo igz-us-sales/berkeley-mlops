{
 "cells": [
  {
   "cell_type": "markdown",
   "id": "295a349a",
   "metadata": {},
   "source": [
    "# CI/CD and Git as Source of Truth"
   ]
  },
  {
   "cell_type": "markdown",
   "id": "a0a8c6d4",
   "metadata": {},
   "source": [
    "## Setup Project\n",
    "\n",
    "Create project to separate resources."
   ]
  },
  {
   "cell_type": "code",
   "execution_count": 2,
   "id": "01df6014",
   "metadata": {},
   "outputs": [],
   "source": [
    "import mlrun"
   ]
  },
  {
   "cell_type": "code",
   "execution_count": 3,
   "id": "061e7094",
   "metadata": {},
   "outputs": [
    {
     "name": "stdout",
     "output_type": "stream",
     "text": [
      "> 2022-09-06 17:39:30,535 [info] loaded project berkeley-mlops from MLRun DB\n"
     ]
    }
   ],
   "source": [
    "project = mlrun.get_or_create_project(name=\"berkeley-mlops\", context=\".\")"
   ]
  },
  {
   "cell_type": "markdown",
   "id": "39e57aed",
   "metadata": {},
   "source": [
    "In this example, we will create a project with 3 MLRun functions and a single pipeline that orchestrates them. The pipeline steps will be the following:\n",
    "- `get-data` - Get iris data from sklearn\n",
    "- `train-model` - Train model via sklearn\n",
    "- `deploy-model` - Deploy model to HTTP endpoint"
   ]
  },
  {
   "cell_type": "markdown",
   "id": "e9d8eff6",
   "metadata": {},
   "source": [
    "---"
   ]
  },
  {
   "cell_type": "markdown",
   "id": "c0436e4c",
   "metadata": {},
   "source": [
    "### Add Functions to Project"
   ]
  },
  {
   "cell_type": "markdown",
   "id": "73dbe36f",
   "metadata": {},
   "source": [
    "We have prepared the three pipeline steps outlined above: `get-data`, `train-model`, and `deploy-model`. Like we saw in [1.3 MLRun Projects](../1_mlrun_basics/1.3_mlrun_projects.ipynb), we can add the functions to a project like so:"
   ]
  },
  {
   "cell_type": "code",
   "execution_count": 4,
   "id": "e0413677",
   "metadata": {},
   "outputs": [
    {
     "data": {
      "text/plain": [
       "<mlrun.runtimes.serving.ServingRuntime at 0x7f49f2b0fe90>"
      ]
     },
     "execution_count": 4,
     "metadata": {},
     "output_type": "execute_result"
    }
   ],
   "source": [
    "project.set_function(name='get-data', func='functions/get_data.py', kind='job', image='mlrun/mlrun')\n",
    "project.set_function(name='train-model', func='functions/train.py', kind='job', image='mlrun/mlrun')\n",
    "project.set_function(name='deploy-model', func='hub://v2_model_server')"
   ]
  },
  {
   "cell_type": "markdown",
   "id": "b9f25ce5",
   "metadata": {},
   "source": [
    "---"
   ]
  },
  {
   "cell_type": "markdown",
   "id": "717df865",
   "metadata": {},
   "source": [
    "### Write Pipeline"
   ]
  },
  {
   "cell_type": "markdown",
   "id": "7878a398",
   "metadata": {},
   "source": [
    "Next, we will define the pipeline that orchestrates the three comoponents. This pipeline will be very simple, however you can create very complex pipelines with branches, conditions, and more."
   ]
  },
  {
   "cell_type": "code",
   "execution_count": 5,
   "id": "a3e3c11f",
   "metadata": {},
   "outputs": [
    {
     "name": "stdout",
     "output_type": "stream",
     "text": [
      "Overwriting pipelines/training_pipeline.py\n"
     ]
    }
   ],
   "source": [
    "%%writefile pipelines/training_pipeline.py\n",
    "from kfp import dsl\n",
    "import mlrun\n",
    "\n",
    "@dsl.pipeline(\n",
    "    name=\"batch-pipeline-academy\",\n",
    "    description=\"Example of batch pipeline for Iguazio Academy\"\n",
    ")\n",
    "def pipeline(label_column: str, test_size=0.2):\n",
    "    \n",
    "    # Ingest the data set\n",
    "    ingest = mlrun.run_function(\n",
    "        'get-data',\n",
    "        handler='prep_data',\n",
    "        params={'label_column': label_column},\n",
    "        outputs=[\"iris_dataset\"]\n",
    "    )\n",
    "    \n",
    "    # Train a model   \n",
    "    train = mlrun.run_function(\n",
    "        \"train-model\",\n",
    "        handler=\"train_model\",\n",
    "        inputs={\"dataset\": ingest.outputs[\"iris_dataset\"]},\n",
    "        params={\n",
    "            \"label_column\": label_column,\n",
    "            \"test_size\" : test_size\n",
    "        },\n",
    "        outputs=['model']\n",
    "    )\n",
    "    \n",
    "    # Deploy the model as a serverless function\n",
    "    deploy = mlrun.deploy_function(\n",
    "        \"deploy-model\",\n",
    "        models=[{\"key\": \"model\", \"model_path\": train.outputs[\"model\"]}]\n",
    "    )\n"
   ]
  },
  {
   "cell_type": "markdown",
   "id": "198db558",
   "metadata": {},
   "source": [
    "---"
   ]
  },
  {
   "cell_type": "markdown",
   "id": "3e6e1c17",
   "metadata": {},
   "source": [
    "### Add Pipeline to Project"
   ]
  },
  {
   "cell_type": "code",
   "execution_count": 6,
   "id": "5cb045f8",
   "metadata": {},
   "outputs": [],
   "source": [
    "project.set_workflow(name='train', workflow_path=\"pipelines/training_pipeline.py\")\n",
    "project.save()"
   ]
  },
  {
   "cell_type": "markdown",
   "id": "cfef9996",
   "metadata": {},
   "source": [
    "---"
   ]
  },
  {
   "cell_type": "markdown",
   "id": "9ef50d05",
   "metadata": {},
   "source": [
    "### Run Pipeline via Python SDK"
   ]
  },
  {
   "cell_type": "markdown",
   "id": "12892caf",
   "metadata": {},
   "source": [
    "The default behavior of the pipeline is to run using Kubeflow Pipelines so we do not need to explicitly specify the engine"
   ]
  },
  {
   "cell_type": "code",
   "execution_count": 7,
   "id": "7b34701b",
   "metadata": {},
   "outputs": [
    {
     "data": {
      "text/html": [
       "<div>Pipeline running (id=a9919f67-7914-451c-915b-fd983ca9e455), <a href=\"https://dashboard.default-tenant.app.us-sales-350.iguazio-cd1.com/mlprojects/berkeley-mlops/jobs/monitor-workflows/workflow/a9919f67-7914-451c-915b-fd983ca9e455\" target=\"_blank\"><b>click here</b></a> to view the details in MLRun UI</div>"
      ],
      "text/plain": [
       "<IPython.core.display.HTML object>"
      ]
     },
     "metadata": {},
     "output_type": "display_data"
    },
    {
     "data": {
      "image/svg+xml": [
       "<?xml version=\"1.0\" encoding=\"UTF-8\" standalone=\"no\"?>\n",
       "<!DOCTYPE svg PUBLIC \"-//W3C//DTD SVG 1.1//EN\"\n",
       " \"http://www.w3.org/Graphics/SVG/1.1/DTD/svg11.dtd\">\n",
       "<!-- Generated by graphviz version 2.40.1 (20161225.0304)\n",
       " -->\n",
       "<!-- Title: kfp Pages: 1 -->\n",
       "<svg width=\"250pt\" height=\"188pt\"\n",
       " viewBox=\"0.00 0.00 249.78 188.00\" xmlns=\"http://www.w3.org/2000/svg\" xmlns:xlink=\"http://www.w3.org/1999/xlink\">\n",
       "<g id=\"graph0\" class=\"graph\" transform=\"scale(1 1) rotate(0) translate(4 184)\">\n",
       "<title>kfp</title>\n",
       "<polygon fill=\"#ffffff\" stroke=\"transparent\" points=\"-4,4 -4,-184 245.7785,-184 245.7785,4 -4,4\"/>\n",
       "<!-- batch&#45;pipeline&#45;academy&#45;7ltsb&#45;1441897901 -->\n",
       "<g id=\"node1\" class=\"node\">\n",
       "<title>batch&#45;pipeline&#45;academy&#45;7ltsb&#45;1441897901</title>\n",
       "<ellipse fill=\"#00ff00\" stroke=\"#000000\" cx=\"120.8893\" cy=\"-90\" rx=\"120.7786\" ry=\"18\"/>\n",
       "<text text-anchor=\"middle\" x=\"120.8893\" y=\"-86.3\" font-family=\"Times,serif\" font-size=\"14.00\" fill=\"#000000\">train&#45;model&#45;train&#45;model</text>\n",
       "</g>\n",
       "<!-- batch&#45;pipeline&#45;academy&#45;7ltsb&#45;2607083830 -->\n",
       "<g id=\"node2\" class=\"node\">\n",
       "<title>batch&#45;pipeline&#45;academy&#45;7ltsb&#45;2607083830</title>\n",
       "<polygon fill=\"#00ff00\" stroke=\"#000000\" points=\"212.8893,-36 32.8893,-36 28.8893,-32 28.8893,0 208.8893,0 212.8893,-4 212.8893,-36\"/>\n",
       "<polyline fill=\"none\" stroke=\"#000000\" points=\"208.8893,-32 28.8893,-32 \"/>\n",
       "<polyline fill=\"none\" stroke=\"#000000\" points=\"208.8893,-32 208.8893,0 \"/>\n",
       "<polyline fill=\"none\" stroke=\"#000000\" points=\"208.8893,-32 212.8893,-36 \"/>\n",
       "<text text-anchor=\"middle\" x=\"120.8893\" y=\"-14.3\" font-family=\"Times,serif\" font-size=\"14.00\" fill=\"#000000\">deploy&#45;v2&#45;model&#45;server</text>\n",
       "</g>\n",
       "<!-- batch&#45;pipeline&#45;academy&#45;7ltsb&#45;1441897901&#45;&gt;batch&#45;pipeline&#45;academy&#45;7ltsb&#45;2607083830 -->\n",
       "<g id=\"edge1\" class=\"edge\">\n",
       "<title>batch&#45;pipeline&#45;academy&#45;7ltsb&#45;1441897901&#45;&gt;batch&#45;pipeline&#45;academy&#45;7ltsb&#45;2607083830</title>\n",
       "<path fill=\"none\" stroke=\"#000000\" d=\"M120.8893,-71.8314C120.8893,-64.131 120.8893,-54.9743 120.8893,-46.4166\"/>\n",
       "<polygon fill=\"#000000\" stroke=\"#000000\" points=\"124.3894,-46.4132 120.8893,-36.4133 117.3894,-46.4133 124.3894,-46.4132\"/>\n",
       "</g>\n",
       "<!-- batch&#45;pipeline&#45;academy&#45;7ltsb&#45;3006213632 -->\n",
       "<g id=\"node3\" class=\"node\">\n",
       "<title>batch&#45;pipeline&#45;academy&#45;7ltsb&#45;3006213632</title>\n",
       "<ellipse fill=\"#00ff00\" stroke=\"#000000\" cx=\"120.8893\" cy=\"-162\" rx=\"96.6831\" ry=\"18\"/>\n",
       "<text text-anchor=\"middle\" x=\"120.8893\" y=\"-158.3\" font-family=\"Times,serif\" font-size=\"14.00\" fill=\"#000000\">get&#45;data&#45;prep&#45;data</text>\n",
       "</g>\n",
       "<!-- batch&#45;pipeline&#45;academy&#45;7ltsb&#45;3006213632&#45;&gt;batch&#45;pipeline&#45;academy&#45;7ltsb&#45;1441897901 -->\n",
       "<g id=\"edge2\" class=\"edge\">\n",
       "<title>batch&#45;pipeline&#45;academy&#45;7ltsb&#45;3006213632&#45;&gt;batch&#45;pipeline&#45;academy&#45;7ltsb&#45;1441897901</title>\n",
       "<path fill=\"none\" stroke=\"#000000\" d=\"M120.8893,-143.8314C120.8893,-136.131 120.8893,-126.9743 120.8893,-118.4166\"/>\n",
       "<polygon fill=\"#000000\" stroke=\"#000000\" points=\"124.3894,-118.4132 120.8893,-108.4133 117.3894,-118.4133 124.3894,-118.4132\"/>\n",
       "</g>\n",
       "</g>\n",
       "</svg>\n"
      ],
      "text/plain": [
       "<graphviz.dot.Digraph at 0x7f49ea79d490>"
      ]
     },
     "metadata": {},
     "output_type": "display_data"
    },
    {
     "data": {
      "text/html": [
       "<h2>Run Results</h2>Workflow a9919f67-7914-451c-915b-fd983ca9e455 finished, state=Succeeded<br>click the hyper links below to see detailed results<br><table border=\"1\" class=\"dataframe\">\n",
       "  <thead>\n",
       "    <tr style=\"text-align: right;\">\n",
       "      <th>uid</th>\n",
       "      <th>start</th>\n",
       "      <th>state</th>\n",
       "      <th>name</th>\n",
       "      <th>parameters</th>\n",
       "      <th>results</th>\n",
       "    </tr>\n",
       "  </thead>\n",
       "  <tbody>\n",
       "    <tr>\n",
       "      <td><div title=\"a4d930110702435c888fb5faaad0cf74\"><a href=\"https://dashboard.default-tenant.app.us-sales-350.iguazio-cd1.com/mlprojects/berkeley-mlops/jobs/monitor/a4d930110702435c888fb5faaad0cf74/overview\" target=\"_blank\" >...aad0cf74</a></div></td>\n",
       "      <td>Sep 06 17:41:26</td>\n",
       "      <td>completed</td>\n",
       "      <td>train-model-train_model</td>\n",
       "      <td><div class=\"dictlist\">label_column=target</div><div class=\"dictlist\">test_size=0.2</div></td>\n",
       "      <td><div class=\"dictlist\">accuracy=1.0</div><div class=\"dictlist\">f1_score=1.0</div><div class=\"dictlist\">precision_score=1.0</div><div class=\"dictlist\">recall_score=1.0</div><div class=\"dictlist\">auc-micro=1.0</div><div class=\"dictlist\">auc-macro=1.0</div><div class=\"dictlist\">auc-weighted=1.0</div></td>\n",
       "    </tr>\n",
       "    <tr>\n",
       "      <td><div title=\"19aa9daefa954b12a3449bff700ea565\"><a href=\"https://dashboard.default-tenant.app.us-sales-350.iguazio-cd1.com/mlprojects/berkeley-mlops/jobs/monitor/19aa9daefa954b12a3449bff700ea565/overview\" target=\"_blank\" >...700ea565</a></div></td>\n",
       "      <td>Sep 06 17:41:05</td>\n",
       "      <td>completed</td>\n",
       "      <td>get-data-prep_data</td>\n",
       "      <td><div class=\"dictlist\">label_column=target</div></td>\n",
       "      <td><div class=\"dictlist\">num_rows=150</div></td>\n",
       "    </tr>\n",
       "  </tbody>\n",
       "</table>"
      ],
      "text/plain": [
       "<IPython.core.display.HTML object>"
      ]
     },
     "metadata": {},
     "output_type": "display_data"
    }
   ],
   "source": [
    "run_id = project.run(\n",
    "    name=\"train\",\n",
    "    arguments={'label_column': 'target', 'test_size' : 0.2}, # Arguments in Key Value format\n",
    "    sync=True, # Get latest versions of all MLRun functions before running,\n",
    "    watch=True # Wait for pipeline to execute before continuing (prints out graph)\n",
    ")"
   ]
  },
  {
   "cell_type": "markdown",
   "id": "584f79c3",
   "metadata": {},
   "source": [
    "---"
   ]
  },
  {
   "cell_type": "markdown",
   "id": "20fda5b9",
   "metadata": {},
   "source": [
    "### Run Pipeline via CLI"
   ]
  },
  {
   "cell_type": "markdown",
   "id": "1cf6e6a2",
   "metadata": {},
   "source": [
    "Like the Python SDK, the CLI has many options for running projects. The CLI is often used in CI/CD pipelines rather than the Python SDK, but that is user preference.\n",
    "\n",
    "Run `mlrun project --help` for more info. To execute our pipeline, run the following:"
   ]
  },
  {
   "cell_type": "code",
   "execution_count": 8,
   "id": "f7f721de",
   "metadata": {},
   "outputs": [
    {
     "name": "stdout",
     "output_type": "stream",
     "text": [
      "Loading project berkeley-mlops into ./:\n",
      "\n",
      "kind: project\n",
      "metadata:\n",
      "  name: berkeley-mlops\n",
      "  created: '2022-09-06T16:57:10.214000+00:00'\n",
      "spec:\n",
      "  functions:\n",
      "  - url: functions/get_data.py\n",
      "    name: get-data\n",
      "    kind: job\n",
      "    image: mlrun/mlrun\n",
      "  - url: functions/train.py\n",
      "    name: train-model\n",
      "    kind: job\n",
      "    image: mlrun/mlrun\n",
      "  - url: hub://v2_model_server\n",
      "    name: deploy-model\n",
      "  workflows:\n",
      "  - name: train\n",
      "    path: pipelines/training_pipeline.py\n",
      "    engine: null\n",
      "  artifacts: []\n",
      "  source: ''\n",
      "  desired_state: online\n",
      "  owner: nick\n",
      "status:\n",
      "  state: online\n",
      "\n",
      "running workflow train file: None\n",
      "Missing type name was inferred as \"Float\" based on the value \"0.2\".\n",
      "> 2022-09-06 17:44:35,887 [info] submitted pipeline berkeley-mlops-train 2022-09-06 17-44-35 id=d2a03e4e-4461-44e6-ae7e-1f60bf41dc65\n",
      "> 2022-09-06 17:44:35,887 [info] Pipeline run id=d2a03e4e-4461-44e6-ae7e-1f60bf41dc65, check UI for progress\n",
      "Pipeline started in project berkeley-mlops id=d2a03e4e-4461-44e6-ae7e-1f60bf41dc65, check progress in https://dashboard.default-tenant.app.us-sales-350.iguazio-cd1.com/mlprojects/berkeley-mlops/jobs/monitor-workflows/workflow/d2a03e4e-4461-44e6-ae7e-1f60bf41dc65\n",
      "run id: d2a03e4e-4461-44e6-ae7e-1f60bf41dc65\n"
     ]
    }
   ],
   "source": [
    "!mlrun project ./ --run train --arguments label_column=target --arguments test_size=0.2"
   ]
  },
  {
   "cell_type": "code",
   "execution_count": null,
   "id": "2095b121",
   "metadata": {},
   "outputs": [],
   "source": []
  }
 ],
 "metadata": {
  "kernelspec": {
   "display_name": "Python [conda env:root] *",
   "language": "python",
   "name": "conda-root-py"
  },
  "language_info": {
   "codemirror_mode": {
    "name": "ipython",
    "version": 3
   },
   "file_extension": ".py",
   "mimetype": "text/x-python",
   "name": "python",
   "nbconvert_exporter": "python",
   "pygments_lexer": "ipython3",
   "version": "3.7.6"
  }
 },
 "nbformat": 4,
 "nbformat_minor": 5
}
