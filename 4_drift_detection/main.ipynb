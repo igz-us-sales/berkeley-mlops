{
 "cells": [
  {
   "cell_type": "markdown",
   "metadata": {},
   "source": [
    "# Monitoring Drift + Automated Re-Training"
   ]
  },
  {
   "cell_type": "markdown",
   "metadata": {},
   "source": [
    "## Setup Project\n",
    "\n",
    "Create project to separate resources."
   ]
  },
  {
   "cell_type": "code",
   "execution_count": 1,
   "metadata": {},
   "outputs": [],
   "source": [
    "import os\n",
    "\n",
    "import mlrun\n",
    "import pandas as pd"
   ]
  },
  {
   "cell_type": "code",
   "execution_count": 2,
   "metadata": {},
   "outputs": [
    {
     "name": "stdout",
     "output_type": "stream",
     "text": [
      "> 2022-09-06 17:24:51,243 [info] loaded project berkeley-mlops from MLRun DB\n"
     ]
    }
   ],
   "source": [
    "project = mlrun.get_or_create_project(name=\"berkeley-mlops\", context=\".\")\n",
    "project.set_model_monitoring_credentials(os.environ.get(\"V3IO_ACCESS_KEY\"))"
   ]
  },
  {
   "cell_type": "markdown",
   "metadata": {},
   "source": [
    "## Log Model\n",
    "Model will be logged with training set statistics to calculate drift against."
   ]
  },
  {
   "cell_type": "code",
   "execution_count": 3,
   "metadata": {},
   "outputs": [],
   "source": [
    "model_name = \"RandomForestClassifier\""
   ]
  },
  {
   "cell_type": "code",
   "execution_count": 4,
   "metadata": {},
   "outputs": [],
   "source": [
    "model_artifact = project.log_model(model_name, model_file=\"model.pkl\", training_set=pd.read_csv(\"train.csv\"))"
   ]
  },
  {
   "cell_type": "code",
   "execution_count": 5,
   "metadata": {},
   "outputs": [
    {
     "data": {
      "text/plain": [
       "'store://models/berkeley-mlops/RandomForestClassifier#0:latest'"
      ]
     },
     "execution_count": 5,
     "metadata": {},
     "output_type": "execute_result"
    }
   ],
   "source": [
    "model_artifact.uri"
   ]
  },
  {
   "cell_type": "markdown",
   "metadata": {},
   "source": [
    "## Import Serving Function\n",
    "\n",
    "Import serving function from function marketplace, mount filesytem, add model from experiment tracking, and enable drift detection."
   ]
  },
  {
   "cell_type": "code",
   "execution_count": 6,
   "metadata": {
    "collapsed": false,
    "jupyter": {
     "outputs_hidden": false
    },
    "pycharm": {
     "name": "#%%\n"
    }
   },
   "outputs": [],
   "source": [
    "# Import the serving function from the function hub and mount filesystem\n",
    "serving_fn = mlrun.import_function('hub://v2_model_server').apply(mlrun.auto_mount())\n",
    "\n",
    "# Add the model to the serving function's routing spec\n",
    "serving_fn.add_model(model_name, model_path=model_artifact.uri)\n",
    "\n",
    "# Enable model monitoring\n",
    "serving_fn.set_tracking()"
   ]
  },
  {
   "cell_type": "markdown",
   "metadata": {},
   "source": [
    "## Deploy Serving Function with Drift Detection\n",
    "\n",
    "Deploys model server with behind-the-scenes infrastructure to facilitate model monitoring. See [docs](https://docs.mlrun.org/en/latest/model_monitoring/model-monitoring-deployment.html) for more info."
   ]
  },
  {
   "cell_type": "code",
   "execution_count": 7,
   "metadata": {
    "collapsed": false,
    "jupyter": {
     "outputs_hidden": false
    },
    "pycharm": {
     "name": "#%%\n"
    }
   },
   "outputs": [
    {
     "name": "stdout",
     "output_type": "stream",
     "text": [
      "> 2022-09-06 17:24:54,025 [info] Starting remote function deploy\n",
      "2022-09-06 17:24:55  (info) Deploying function\n",
      "2022-09-06 17:24:55  (info) Building\n",
      "2022-09-06 17:24:56  (info) Staging files and preparing base images\n",
      "2022-09-06 17:24:56  (info) Building processor image\n",
      "2022-09-06 17:25:51  (info) Build complete\n",
      "2022-09-06 17:26:01  (info) Function deploy complete\n",
      "> 2022-09-06 17:26:02,126 [info] successfully deployed function: {'internal_invocation_urls': ['nuclio-berkeley-mlops-v2-model-server.default-tenant.svc.cluster.local:8080'], 'external_invocation_urls': ['berkeley-mlops-v2-model-server-berkeley-mlops.default-tenant.app.us-sales-350.iguazio-cd1.com/']}\n"
     ]
    },
    {
     "data": {
      "text/plain": [
       "'http://berkeley-mlops-v2-model-server-berkeley-mlops.default-tenant.app.us-sales-350.iguazio-cd1.com/'"
      ]
     },
     "execution_count": 7,
     "metadata": {},
     "output_type": "execute_result"
    }
   ],
   "source": [
    "# Deploy the function\n",
    "serving_fn.deploy()"
   ]
  },
  {
   "cell_type": "markdown",
   "metadata": {},
   "source": [
    "## Simulate Production Requests\n",
    "\n",
    "Use the following code to simulate production data."
   ]
  },
  {
   "cell_type": "code",
   "execution_count": null,
   "metadata": {
    "collapsed": false,
    "jupyter": {
     "outputs_hidden": false
    },
    "pycharm": {
     "name": "#%%\n"
    },
    "scrolled": true
   },
   "outputs": [],
   "source": [
    "import json\n",
    "from time import sleep\n",
    "from random import choice, uniform\n",
    "\n",
    "iris_data = pd.read_csv(\"train.csv\").to_dict(orient=\"split\")[\"data\"]\n",
    "\n",
    "while True:\n",
    "    data_point = choice(iris_data)\n",
    "    serving_fn.invoke(f'v2/models/{model_name}/infer', json.dumps({'inputs': [data_point]}))\n",
    "    sleep(uniform(0.2, 1.7))"
   ]
  },
  {
   "cell_type": "code",
   "execution_count": null,
   "metadata": {},
   "outputs": [],
   "source": []
  }
 ],
 "metadata": {
  "kernelspec": {
   "display_name": "Python 3",
   "language": "python",
   "name": "python3"
  },
  "language_info": {
   "codemirror_mode": {
    "name": "ipython",
    "version": 3
   },
   "file_extension": ".py",
   "mimetype": "text/x-python",
   "name": "python",
   "nbconvert_exporter": "python",
   "pygments_lexer": "ipython3",
   "version": "3.7.6"
  }
 },
 "nbformat": 4,
 "nbformat_minor": 4
}
