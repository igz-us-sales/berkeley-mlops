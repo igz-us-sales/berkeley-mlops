{
 "cells": [
  {
   "cell_type": "markdown",
   "metadata": {},
   "source": [
    "# Monitoring Drift + Automated Re-Training"
   ]
  },
  {
   "cell_type": "markdown",
   "metadata": {},
   "source": [
    "## Setup Project\n",
    "\n",
    "Create project to separate resources."
   ]
  },
  {
   "cell_type": "code",
   "execution_count": 1,
   "metadata": {},
   "outputs": [],
   "source": [
    "import os\n",
    "\n",
    "import mlrun\n",
    "import pandas as pd"
   ]
  },
  {
   "cell_type": "code",
   "execution_count": 2,
   "metadata": {},
   "outputs": [
    {
     "name": "stdout",
     "output_type": "stream",
     "text": [
      "> 2022-09-06 21:06:13,643 [info] loaded project berkeley-mlops from MLRun DB\n"
     ]
    }
   ],
   "source": [
    "project = mlrun.get_or_create_project(name=\"berkeley-mlops\", context=\".\")\n",
    "project.set_model_monitoring_credentials(os.environ.get(\"V3IO_ACCESS_KEY\"))"
   ]
  },
  {
   "cell_type": "markdown",
   "metadata": {},
   "source": [
    "## Log Model\n",
    "Model will be logged with training set statistics to calculate drift against."
   ]
  },
  {
   "cell_type": "code",
   "execution_count": 3,
   "metadata": {},
   "outputs": [],
   "source": [
    "model_name = \"RandomForestClassifier\""
   ]
  },
  {
   "cell_type": "code",
   "execution_count": 4,
   "metadata": {},
   "outputs": [],
   "source": [
    "model_artifact = project.log_model(model_name, model_file=\"model.pkl\", training_set=pd.read_csv(\"train.csv\"))"
   ]
  },
  {
   "cell_type": "code",
   "execution_count": 5,
   "metadata": {},
   "outputs": [
    {
     "data": {
      "text/plain": [
       "'store://models/berkeley-mlops/RandomForestClassifier#0:latest'"
      ]
     },
     "execution_count": 5,
     "metadata": {},
     "output_type": "execute_result"
    }
   ],
   "source": [
    "model_artifact.uri"
   ]
  },
  {
   "cell_type": "markdown",
   "metadata": {},
   "source": [
    "## Import Serving Function\n",
    "\n",
    "Import serving function from function marketplace, mount filesytem, add model from experiment tracking, and enable drift detection."
   ]
  },
  {
   "cell_type": "code",
   "execution_count": 6,
   "metadata": {
    "collapsed": false,
    "jupyter": {
     "outputs_hidden": false
    },
    "pycharm": {
     "name": "#%%\n"
    }
   },
   "outputs": [],
   "source": [
    "# Import the serving function from the function hub and mount filesystem\n",
    "serving_fn = mlrun.import_function('hub://v2_model_server').apply(mlrun.auto_mount())\n",
    "\n",
    "# Add the model to the serving function's routing spec\n",
    "serving_fn.add_model(model_name, model_path=model_artifact.uri)\n",
    "\n",
    "# Enable model monitoring\n",
    "serving_fn.set_tracking()"
   ]
  },
  {
   "cell_type": "markdown",
   "metadata": {},
   "source": [
    "## Deploy Serving Function with Drift Detection\n",
    "\n",
    "Deploys model server with behind-the-scenes infrastructure to facilitate model monitoring. See [docs](https://docs.mlrun.org/en/latest/model_monitoring/model-monitoring-deployment.html) for more info."
   ]
  },
  {
   "cell_type": "code",
   "execution_count": 7,
   "metadata": {
    "collapsed": false,
    "jupyter": {
     "outputs_hidden": false
    },
    "pycharm": {
     "name": "#%%\n"
    }
   },
   "outputs": [
    {
     "name": "stdout",
     "output_type": "stream",
     "text": [
      "> 2022-09-06 21:06:17,990 [info] Starting remote function deploy\n",
      "2022-09-06 21:06:19  (info) Deploying function\n",
      "2022-09-06 21:06:19  (info) Building\n",
      "2022-09-06 21:06:20  (info) Staging files and preparing base images\n",
      "2022-09-06 21:06:20  (info) Building processor image\n",
      "2022-09-06 21:07:15  (info) Build complete\n",
      "2022-09-06 21:08:09  (info) Function deploy complete\n",
      "> 2022-09-06 21:08:10,671 [info] successfully deployed function: {'internal_invocation_urls': ['nuclio-berkeley-mlops-v2-model-server.default-tenant.svc.cluster.local:8080'], 'external_invocation_urls': ['berkeley-mlops-v2-model-server-berkeley-mlops.default-tenant.app.us-sales-350.iguazio-cd1.com/']}\n"
     ]
    },
    {
     "data": {
      "text/plain": [
       "'http://berkeley-mlops-v2-model-server-berkeley-mlops.default-tenant.app.us-sales-350.iguazio-cd1.com/'"
      ]
     },
     "execution_count": 7,
     "metadata": {},
     "output_type": "execute_result"
    }
   ],
   "source": [
    "# Deploy the function\n",
    "serving_fn.deploy()"
   ]
  },
  {
   "cell_type": "markdown",
   "metadata": {},
   "source": [
    "## Simulate Production Requests\n",
    "\n",
    "Use the following code to simulate production data."
   ]
  },
  {
   "cell_type": "code",
   "execution_count": null,
   "metadata": {
    "collapsed": false,
    "jupyter": {
     "outputs_hidden": false
    },
    "pycharm": {
     "name": "#%%\n"
    },
    "scrolled": true
   },
   "outputs": [
    {
     "name": "stdout",
     "output_type": "stream",
     "text": [
      "> 2022-09-06 17:28:23,061 [info] invoking function: {'method': 'POST', 'path': 'http://nuclio-berkeley-mlops-v2-model-server.default-tenant.svc.cluster.local:8080/v2/models/RandomForestClassifier/infer'}\n",
      "ERROR! Session/line number was not unique in database. History logging moved to new session 107\n",
      "> 2022-09-06 17:28:23,095 [info] invoking function: {'method': 'POST', 'path': 'http://nuclio-berkeley-mlops-v2-model-server.default-tenant.svc.cluster.local:8080/v2/models/RandomForestClassifier/infer'}\n",
      "> 2022-09-06 17:28:23,126 [info] invoking function: {'method': 'POST', 'path': 'http://nuclio-berkeley-mlops-v2-model-server.default-tenant.svc.cluster.local:8080/v2/models/RandomForestClassifier/infer'}\n",
      "> 2022-09-06 17:28:23,158 [info] invoking function: {'method': 'POST', 'path': 'http://nuclio-berkeley-mlops-v2-model-server.default-tenant.svc.cluster.local:8080/v2/models/RandomForestClassifier/infer'}\n",
      "> 2022-09-06 17:28:23,191 [info] invoking function: {'method': 'POST', 'path': 'http://nuclio-berkeley-mlops-v2-model-server.default-tenant.svc.cluster.local:8080/v2/models/RandomForestClassifier/infer'}\n",
      "> 2022-09-06 17:28:23,224 [info] invoking function: {'method': 'POST', 'path': 'http://nuclio-berkeley-mlops-v2-model-server.default-tenant.svc.cluster.local:8080/v2/models/RandomForestClassifier/infer'}\n",
      "> 2022-09-06 17:28:23,257 [info] invoking function: {'method': 'POST', 'path': 'http://nuclio-berkeley-mlops-v2-model-server.default-tenant.svc.cluster.local:8080/v2/models/RandomForestClassifier/infer'}\n",
      "> 2022-09-06 17:28:23,290 [info] invoking function: {'method': 'POST', 'path': 'http://nuclio-berkeley-mlops-v2-model-server.default-tenant.svc.cluster.local:8080/v2/models/RandomForestClassifier/infer'}\n",
      "> 2022-09-06 17:28:23,324 [info] invoking function: {'method': 'POST', 'path': 'http://nuclio-berkeley-mlops-v2-model-server.default-tenant.svc.cluster.local:8080/v2/models/RandomForestClassifier/infer'}\n",
      "> 2022-09-06 17:28:23,360 [info] invoking function: {'method': 'POST', 'path': 'http://nuclio-berkeley-mlops-v2-model-server.default-tenant.svc.cluster.local:8080/v2/models/RandomForestClassifier/infer'}\n",
      "> 2022-09-06 17:28:23,393 [info] invoking function: {'method': 'POST', 'path': 'http://nuclio-berkeley-mlops-v2-model-server.default-tenant.svc.cluster.local:8080/v2/models/RandomForestClassifier/infer'}\n",
      "> 2022-09-06 17:28:23,425 [info] invoking function: {'method': 'POST', 'path': 'http://nuclio-berkeley-mlops-v2-model-server.default-tenant.svc.cluster.local:8080/v2/models/RandomForestClassifier/infer'}\n",
      "> 2022-09-06 17:28:23,458 [info] invoking function: {'method': 'POST', 'path': 'http://nuclio-berkeley-mlops-v2-model-server.default-tenant.svc.cluster.local:8080/v2/models/RandomForestClassifier/infer'}\n",
      "> 2022-09-06 17:28:23,491 [info] invoking function: {'method': 'POST', 'path': 'http://nuclio-berkeley-mlops-v2-model-server.default-tenant.svc.cluster.local:8080/v2/models/RandomForestClassifier/infer'}\n",
      "> 2022-09-06 17:28:23,522 [info] invoking function: {'method': 'POST', 'path': 'http://nuclio-berkeley-mlops-v2-model-server.default-tenant.svc.cluster.local:8080/v2/models/RandomForestClassifier/infer'}\n",
      "> 2022-09-06 17:28:23,554 [info] invoking function: {'method': 'POST', 'path': 'http://nuclio-berkeley-mlops-v2-model-server.default-tenant.svc.cluster.local:8080/v2/models/RandomForestClassifier/infer'}\n",
      "> 2022-09-06 17:28:23,585 [info] invoking function: {'method': 'POST', 'path': 'http://nuclio-berkeley-mlops-v2-model-server.default-tenant.svc.cluster.local:8080/v2/models/RandomForestClassifier/infer'}\n",
      "> 2022-09-06 17:28:23,617 [info] invoking function: {'method': 'POST', 'path': 'http://nuclio-berkeley-mlops-v2-model-server.default-tenant.svc.cluster.local:8080/v2/models/RandomForestClassifier/infer'}\n",
      "> 2022-09-06 17:28:23,650 [info] invoking function: {'method': 'POST', 'path': 'http://nuclio-berkeley-mlops-v2-model-server.default-tenant.svc.cluster.local:8080/v2/models/RandomForestClassifier/infer'}\n",
      "> 2022-09-06 17:28:23,682 [info] invoking function: {'method': 'POST', 'path': 'http://nuclio-berkeley-mlops-v2-model-server.default-tenant.svc.cluster.local:8080/v2/models/RandomForestClassifier/infer'}\n",
      "> 2022-09-06 17:28:23,713 [info] invoking function: {'method': 'POST', 'path': 'http://nuclio-berkeley-mlops-v2-model-server.default-tenant.svc.cluster.local:8080/v2/models/RandomForestClassifier/infer'}\n",
      "> 2022-09-06 17:28:23,745 [info] invoking function: {'method': 'POST', 'path': 'http://nuclio-berkeley-mlops-v2-model-server.default-tenant.svc.cluster.local:8080/v2/models/RandomForestClassifier/infer'}\n",
      "> 2022-09-06 17:28:23,783 [info] invoking function: {'method': 'POST', 'path': 'http://nuclio-berkeley-mlops-v2-model-server.default-tenant.svc.cluster.local:8080/v2/models/RandomForestClassifier/infer'}\n",
      "> 2022-09-06 17:28:23,821 [info] invoking function: {'method': 'POST', 'path': 'http://nuclio-berkeley-mlops-v2-model-server.default-tenant.svc.cluster.local:8080/v2/models/RandomForestClassifier/infer'}\n",
      "> 2022-09-06 17:28:23,852 [info] invoking function: {'method': 'POST', 'path': 'http://nuclio-berkeley-mlops-v2-model-server.default-tenant.svc.cluster.local:8080/v2/models/RandomForestClassifier/infer'}\n",
      "> 2022-09-06 17:28:23,884 [info] invoking function: {'method': 'POST', 'path': 'http://nuclio-berkeley-mlops-v2-model-server.default-tenant.svc.cluster.local:8080/v2/models/RandomForestClassifier/infer'}\n",
      "> 2022-09-06 17:28:23,915 [info] invoking function: {'method': 'POST', 'path': 'http://nuclio-berkeley-mlops-v2-model-server.default-tenant.svc.cluster.local:8080/v2/models/RandomForestClassifier/infer'}\n",
      "> 2022-09-06 17:28:23,947 [info] invoking function: {'method': 'POST', 'path': 'http://nuclio-berkeley-mlops-v2-model-server.default-tenant.svc.cluster.local:8080/v2/models/RandomForestClassifier/infer'}\n",
      "> 2022-09-06 17:28:23,978 [info] invoking function: {'method': 'POST', 'path': 'http://nuclio-berkeley-mlops-v2-model-server.default-tenant.svc.cluster.local:8080/v2/models/RandomForestClassifier/infer'}\n",
      "> 2022-09-06 17:28:24,010 [info] invoking function: {'method': 'POST', 'path': 'http://nuclio-berkeley-mlops-v2-model-server.default-tenant.svc.cluster.local:8080/v2/models/RandomForestClassifier/infer'}\n",
      "> 2022-09-06 17:28:24,042 [info] invoking function: {'method': 'POST', 'path': 'http://nuclio-berkeley-mlops-v2-model-server.default-tenant.svc.cluster.local:8080/v2/models/RandomForestClassifier/infer'}\n",
      "> 2022-09-06 17:28:24,074 [info] invoking function: {'method': 'POST', 'path': 'http://nuclio-berkeley-mlops-v2-model-server.default-tenant.svc.cluster.local:8080/v2/models/RandomForestClassifier/infer'}\n",
      "> 2022-09-06 17:28:24,106 [info] invoking function: {'method': 'POST', 'path': 'http://nuclio-berkeley-mlops-v2-model-server.default-tenant.svc.cluster.local:8080/v2/models/RandomForestClassifier/infer'}\n",
      "> 2022-09-06 17:28:24,139 [info] invoking function: {'method': 'POST', 'path': 'http://nuclio-berkeley-mlops-v2-model-server.default-tenant.svc.cluster.local:8080/v2/models/RandomForestClassifier/infer'}\n",
      "> 2022-09-06 17:28:24,171 [info] invoking function: {'method': 'POST', 'path': 'http://nuclio-berkeley-mlops-v2-model-server.default-tenant.svc.cluster.local:8080/v2/models/RandomForestClassifier/infer'}\n",
      "> 2022-09-06 17:28:24,204 [info] invoking function: {'method': 'POST', 'path': 'http://nuclio-berkeley-mlops-v2-model-server.default-tenant.svc.cluster.local:8080/v2/models/RandomForestClassifier/infer'}\n",
      "> 2022-09-06 17:28:24,236 [info] invoking function: {'method': 'POST', 'path': 'http://nuclio-berkeley-mlops-v2-model-server.default-tenant.svc.cluster.local:8080/v2/models/RandomForestClassifier/infer'}\n",
      "> 2022-09-06 17:28:24,270 [info] invoking function: {'method': 'POST', 'path': 'http://nuclio-berkeley-mlops-v2-model-server.default-tenant.svc.cluster.local:8080/v2/models/RandomForestClassifier/infer'}\n",
      "> 2022-09-06 17:28:24,306 [info] invoking function: {'method': 'POST', 'path': 'http://nuclio-berkeley-mlops-v2-model-server.default-tenant.svc.cluster.local:8080/v2/models/RandomForestClassifier/infer'}\n",
      "> 2022-09-06 17:28:24,339 [info] invoking function: {'method': 'POST', 'path': 'http://nuclio-berkeley-mlops-v2-model-server.default-tenant.svc.cluster.local:8080/v2/models/RandomForestClassifier/infer'}\n",
      "> 2022-09-06 17:28:24,378 [info] invoking function: {'method': 'POST', 'path': 'http://nuclio-berkeley-mlops-v2-model-server.default-tenant.svc.cluster.local:8080/v2/models/RandomForestClassifier/infer'}\n",
      "> 2022-09-06 17:28:24,411 [info] invoking function: {'method': 'POST', 'path': 'http://nuclio-berkeley-mlops-v2-model-server.default-tenant.svc.cluster.local:8080/v2/models/RandomForestClassifier/infer'}\n",
      "> 2022-09-06 17:28:24,443 [info] invoking function: {'method': 'POST', 'path': 'http://nuclio-berkeley-mlops-v2-model-server.default-tenant.svc.cluster.local:8080/v2/models/RandomForestClassifier/infer'}\n",
      "> 2022-09-06 17:28:24,476 [info] invoking function: {'method': 'POST', 'path': 'http://nuclio-berkeley-mlops-v2-model-server.default-tenant.svc.cluster.local:8080/v2/models/RandomForestClassifier/infer'}\n",
      "> 2022-09-06 17:28:24,508 [info] invoking function: {'method': 'POST', 'path': 'http://nuclio-berkeley-mlops-v2-model-server.default-tenant.svc.cluster.local:8080/v2/models/RandomForestClassifier/infer'}\n",
      "> 2022-09-06 17:28:24,540 [info] invoking function: {'method': 'POST', 'path': 'http://nuclio-berkeley-mlops-v2-model-server.default-tenant.svc.cluster.local:8080/v2/models/RandomForestClassifier/infer'}\n",
      "> 2022-09-06 17:28:24,572 [info] invoking function: {'method': 'POST', 'path': 'http://nuclio-berkeley-mlops-v2-model-server.default-tenant.svc.cluster.local:8080/v2/models/RandomForestClassifier/infer'}\n",
      "> 2022-09-06 17:28:24,604 [info] invoking function: {'method': 'POST', 'path': 'http://nuclio-berkeley-mlops-v2-model-server.default-tenant.svc.cluster.local:8080/v2/models/RandomForestClassifier/infer'}\n",
      "> 2022-09-06 17:28:24,635 [info] invoking function: {'method': 'POST', 'path': 'http://nuclio-berkeley-mlops-v2-model-server.default-tenant.svc.cluster.local:8080/v2/models/RandomForestClassifier/infer'}\n",
      "> 2022-09-06 17:28:24,667 [info] invoking function: {'method': 'POST', 'path': 'http://nuclio-berkeley-mlops-v2-model-server.default-tenant.svc.cluster.local:8080/v2/models/RandomForestClassifier/infer'}\n",
      "> 2022-09-06 17:28:24,699 [info] invoking function: {'method': 'POST', 'path': 'http://nuclio-berkeley-mlops-v2-model-server.default-tenant.svc.cluster.local:8080/v2/models/RandomForestClassifier/infer'}\n",
      "> 2022-09-06 17:28:24,730 [info] invoking function: {'method': 'POST', 'path': 'http://nuclio-berkeley-mlops-v2-model-server.default-tenant.svc.cluster.local:8080/v2/models/RandomForestClassifier/infer'}\n",
      "> 2022-09-06 17:28:24,761 [info] invoking function: {'method': 'POST', 'path': 'http://nuclio-berkeley-mlops-v2-model-server.default-tenant.svc.cluster.local:8080/v2/models/RandomForestClassifier/infer'}\n",
      "> 2022-09-06 17:28:24,793 [info] invoking function: {'method': 'POST', 'path': 'http://nuclio-berkeley-mlops-v2-model-server.default-tenant.svc.cluster.local:8080/v2/models/RandomForestClassifier/infer'}\n",
      "> 2022-09-06 17:28:24,824 [info] invoking function: {'method': 'POST', 'path': 'http://nuclio-berkeley-mlops-v2-model-server.default-tenant.svc.cluster.local:8080/v2/models/RandomForestClassifier/infer'}\n",
      "> 2022-09-06 17:28:24,856 [info] invoking function: {'method': 'POST', 'path': 'http://nuclio-berkeley-mlops-v2-model-server.default-tenant.svc.cluster.local:8080/v2/models/RandomForestClassifier/infer'}\n",
      "> 2022-09-06 17:28:24,887 [info] invoking function: {'method': 'POST', 'path': 'http://nuclio-berkeley-mlops-v2-model-server.default-tenant.svc.cluster.local:8080/v2/models/RandomForestClassifier/infer'}\n",
      "> 2022-09-06 17:28:24,919 [info] invoking function: {'method': 'POST', 'path': 'http://nuclio-berkeley-mlops-v2-model-server.default-tenant.svc.cluster.local:8080/v2/models/RandomForestClassifier/infer'}\n",
      "> 2022-09-06 17:28:24,949 [info] invoking function: {'method': 'POST', 'path': 'http://nuclio-berkeley-mlops-v2-model-server.default-tenant.svc.cluster.local:8080/v2/models/RandomForestClassifier/infer'}\n",
      "> 2022-09-06 17:28:24,979 [info] invoking function: {'method': 'POST', 'path': 'http://nuclio-berkeley-mlops-v2-model-server.default-tenant.svc.cluster.local:8080/v2/models/RandomForestClassifier/infer'}\n",
      "> 2022-09-06 17:28:25,010 [info] invoking function: {'method': 'POST', 'path': 'http://nuclio-berkeley-mlops-v2-model-server.default-tenant.svc.cluster.local:8080/v2/models/RandomForestClassifier/infer'}\n",
      "> 2022-09-06 17:28:25,041 [info] invoking function: {'method': 'POST', 'path': 'http://nuclio-berkeley-mlops-v2-model-server.default-tenant.svc.cluster.local:8080/v2/models/RandomForestClassifier/infer'}\n",
      "> 2022-09-06 17:28:25,072 [info] invoking function: {'method': 'POST', 'path': 'http://nuclio-berkeley-mlops-v2-model-server.default-tenant.svc.cluster.local:8080/v2/models/RandomForestClassifier/infer'}\n",
      "> 2022-09-06 17:28:25,102 [info] invoking function: {'method': 'POST', 'path': 'http://nuclio-berkeley-mlops-v2-model-server.default-tenant.svc.cluster.local:8080/v2/models/RandomForestClassifier/infer'}\n",
      "> 2022-09-06 17:28:25,134 [info] invoking function: {'method': 'POST', 'path': 'http://nuclio-berkeley-mlops-v2-model-server.default-tenant.svc.cluster.local:8080/v2/models/RandomForestClassifier/infer'}\n",
      "> 2022-09-06 17:28:25,168 [info] invoking function: {'method': 'POST', 'path': 'http://nuclio-berkeley-mlops-v2-model-server.default-tenant.svc.cluster.local:8080/v2/models/RandomForestClassifier/infer'}\n",
      "> 2022-09-06 17:28:25,201 [info] invoking function: {'method': 'POST', 'path': 'http://nuclio-berkeley-mlops-v2-model-server.default-tenant.svc.cluster.local:8080/v2/models/RandomForestClassifier/infer'}\n",
      "> 2022-09-06 17:28:25,232 [info] invoking function: {'method': 'POST', 'path': 'http://nuclio-berkeley-mlops-v2-model-server.default-tenant.svc.cluster.local:8080/v2/models/RandomForestClassifier/infer'}\n",
      "> 2022-09-06 17:28:25,265 [info] invoking function: {'method': 'POST', 'path': 'http://nuclio-berkeley-mlops-v2-model-server.default-tenant.svc.cluster.local:8080/v2/models/RandomForestClassifier/infer'}\n",
      "> 2022-09-06 17:28:25,297 [info] invoking function: {'method': 'POST', 'path': 'http://nuclio-berkeley-mlops-v2-model-server.default-tenant.svc.cluster.local:8080/v2/models/RandomForestClassifier/infer'}\n",
      "> 2022-09-06 17:28:25,333 [info] invoking function: {'method': 'POST', 'path': 'http://nuclio-berkeley-mlops-v2-model-server.default-tenant.svc.cluster.local:8080/v2/models/RandomForestClassifier/infer'}\n",
      "> 2022-09-06 17:28:25,365 [info] invoking function: {'method': 'POST', 'path': 'http://nuclio-berkeley-mlops-v2-model-server.default-tenant.svc.cluster.local:8080/v2/models/RandomForestClassifier/infer'}\n",
      "> 2022-09-06 17:28:25,398 [info] invoking function: {'method': 'POST', 'path': 'http://nuclio-berkeley-mlops-v2-model-server.default-tenant.svc.cluster.local:8080/v2/models/RandomForestClassifier/infer'}\n",
      "> 2022-09-06 17:28:25,443 [info] invoking function: {'method': 'POST', 'path': 'http://nuclio-berkeley-mlops-v2-model-server.default-tenant.svc.cluster.local:8080/v2/models/RandomForestClassifier/infer'}\n",
      "> 2022-09-06 17:28:25,490 [info] invoking function: {'method': 'POST', 'path': 'http://nuclio-berkeley-mlops-v2-model-server.default-tenant.svc.cluster.local:8080/v2/models/RandomForestClassifier/infer'}\n",
      "> 2022-09-06 17:28:25,524 [info] invoking function: {'method': 'POST', 'path': 'http://nuclio-berkeley-mlops-v2-model-server.default-tenant.svc.cluster.local:8080/v2/models/RandomForestClassifier/infer'}\n",
      "> 2022-09-06 17:28:25,558 [info] invoking function: {'method': 'POST', 'path': 'http://nuclio-berkeley-mlops-v2-model-server.default-tenant.svc.cluster.local:8080/v2/models/RandomForestClassifier/infer'}\n",
      "> 2022-09-06 17:28:25,591 [info] invoking function: {'method': 'POST', 'path': 'http://nuclio-berkeley-mlops-v2-model-server.default-tenant.svc.cluster.local:8080/v2/models/RandomForestClassifier/infer'}\n",
      "> 2022-09-06 17:28:25,623 [info] invoking function: {'method': 'POST', 'path': 'http://nuclio-berkeley-mlops-v2-model-server.default-tenant.svc.cluster.local:8080/v2/models/RandomForestClassifier/infer'}\n",
      "> 2022-09-06 17:28:25,660 [info] invoking function: {'method': 'POST', 'path': 'http://nuclio-berkeley-mlops-v2-model-server.default-tenant.svc.cluster.local:8080/v2/models/RandomForestClassifier/infer'}\n",
      "> 2022-09-06 17:28:25,696 [info] invoking function: {'method': 'POST', 'path': 'http://nuclio-berkeley-mlops-v2-model-server.default-tenant.svc.cluster.local:8080/v2/models/RandomForestClassifier/infer'}\n",
      "> 2022-09-06 17:28:25,734 [info] invoking function: {'method': 'POST', 'path': 'http://nuclio-berkeley-mlops-v2-model-server.default-tenant.svc.cluster.local:8080/v2/models/RandomForestClassifier/infer'}\n",
      "> 2022-09-06 17:28:25,773 [info] invoking function: {'method': 'POST', 'path': 'http://nuclio-berkeley-mlops-v2-model-server.default-tenant.svc.cluster.local:8080/v2/models/RandomForestClassifier/infer'}\n",
      "> 2022-09-06 17:28:25,807 [info] invoking function: {'method': 'POST', 'path': 'http://nuclio-berkeley-mlops-v2-model-server.default-tenant.svc.cluster.local:8080/v2/models/RandomForestClassifier/infer'}\n",
      "> 2022-09-06 17:28:25,844 [info] invoking function: {'method': 'POST', 'path': 'http://nuclio-berkeley-mlops-v2-model-server.default-tenant.svc.cluster.local:8080/v2/models/RandomForestClassifier/infer'}\n",
      "> 2022-09-06 17:28:25,880 [info] invoking function: {'method': 'POST', 'path': 'http://nuclio-berkeley-mlops-v2-model-server.default-tenant.svc.cluster.local:8080/v2/models/RandomForestClassifier/infer'}\n",
      "> 2022-09-06 17:28:25,915 [info] invoking function: {'method': 'POST', 'path': 'http://nuclio-berkeley-mlops-v2-model-server.default-tenant.svc.cluster.local:8080/v2/models/RandomForestClassifier/infer'}\n",
      "> 2022-09-06 17:28:25,948 [info] invoking function: {'method': 'POST', 'path': 'http://nuclio-berkeley-mlops-v2-model-server.default-tenant.svc.cluster.local:8080/v2/models/RandomForestClassifier/infer'}\n",
      "> 2022-09-06 17:28:25,980 [info] invoking function: {'method': 'POST', 'path': 'http://nuclio-berkeley-mlops-v2-model-server.default-tenant.svc.cluster.local:8080/v2/models/RandomForestClassifier/infer'}\n",
      "> 2022-09-06 17:28:26,011 [info] invoking function: {'method': 'POST', 'path': 'http://nuclio-berkeley-mlops-v2-model-server.default-tenant.svc.cluster.local:8080/v2/models/RandomForestClassifier/infer'}\n",
      "> 2022-09-06 17:28:26,043 [info] invoking function: {'method': 'POST', 'path': 'http://nuclio-berkeley-mlops-v2-model-server.default-tenant.svc.cluster.local:8080/v2/models/RandomForestClassifier/infer'}\n",
      "> 2022-09-06 17:28:26,076 [info] invoking function: {'method': 'POST', 'path': 'http://nuclio-berkeley-mlops-v2-model-server.default-tenant.svc.cluster.local:8080/v2/models/RandomForestClassifier/infer'}\n",
      "> 2022-09-06 17:28:26,111 [info] invoking function: {'method': 'POST', 'path': 'http://nuclio-berkeley-mlops-v2-model-server.default-tenant.svc.cluster.local:8080/v2/models/RandomForestClassifier/infer'}\n",
      "> 2022-09-06 17:28:26,143 [info] invoking function: {'method': 'POST', 'path': 'http://nuclio-berkeley-mlops-v2-model-server.default-tenant.svc.cluster.local:8080/v2/models/RandomForestClassifier/infer'}\n",
      "> 2022-09-06 17:28:26,185 [info] invoking function: {'method': 'POST', 'path': 'http://nuclio-berkeley-mlops-v2-model-server.default-tenant.svc.cluster.local:8080/v2/models/RandomForestClassifier/infer'}\n",
      "> 2022-09-06 17:28:26,218 [info] invoking function: {'method': 'POST', 'path': 'http://nuclio-berkeley-mlops-v2-model-server.default-tenant.svc.cluster.local:8080/v2/models/RandomForestClassifier/infer'}\n",
      "> 2022-09-06 17:28:26,252 [info] invoking function: {'method': 'POST', 'path': 'http://nuclio-berkeley-mlops-v2-model-server.default-tenant.svc.cluster.local:8080/v2/models/RandomForestClassifier/infer'}\n",
      "> 2022-09-06 17:28:26,292 [info] invoking function: {'method': 'POST', 'path': 'http://nuclio-berkeley-mlops-v2-model-server.default-tenant.svc.cluster.local:8080/v2/models/RandomForestClassifier/infer'}\n",
      "> 2022-09-06 17:28:26,325 [info] invoking function: {'method': 'POST', 'path': 'http://nuclio-berkeley-mlops-v2-model-server.default-tenant.svc.cluster.local:8080/v2/models/RandomForestClassifier/infer'}\n",
      "> 2022-09-06 17:28:26,358 [info] invoking function: {'method': 'POST', 'path': 'http://nuclio-berkeley-mlops-v2-model-server.default-tenant.svc.cluster.local:8080/v2/models/RandomForestClassifier/infer'}\n",
      "> 2022-09-06 17:28:26,394 [info] invoking function: {'method': 'POST', 'path': 'http://nuclio-berkeley-mlops-v2-model-server.default-tenant.svc.cluster.local:8080/v2/models/RandomForestClassifier/infer'}\n",
      "> 2022-09-06 17:28:26,428 [info] invoking function: {'method': 'POST', 'path': 'http://nuclio-berkeley-mlops-v2-model-server.default-tenant.svc.cluster.local:8080/v2/models/RandomForestClassifier/infer'}\n",
      "> 2022-09-06 17:28:26,472 [info] invoking function: {'method': 'POST', 'path': 'http://nuclio-berkeley-mlops-v2-model-server.default-tenant.svc.cluster.local:8080/v2/models/RandomForestClassifier/infer'}\n",
      "> 2022-09-06 17:28:26,505 [info] invoking function: {'method': 'POST', 'path': 'http://nuclio-berkeley-mlops-v2-model-server.default-tenant.svc.cluster.local:8080/v2/models/RandomForestClassifier/infer'}\n",
      "> 2022-09-06 17:28:26,537 [info] invoking function: {'method': 'POST', 'path': 'http://nuclio-berkeley-mlops-v2-model-server.default-tenant.svc.cluster.local:8080/v2/models/RandomForestClassifier/infer'}\n",
      "> 2022-09-06 17:28:26,569 [info] invoking function: {'method': 'POST', 'path': 'http://nuclio-berkeley-mlops-v2-model-server.default-tenant.svc.cluster.local:8080/v2/models/RandomForestClassifier/infer'}\n",
      "> 2022-09-06 17:28:26,601 [info] invoking function: {'method': 'POST', 'path': 'http://nuclio-berkeley-mlops-v2-model-server.default-tenant.svc.cluster.local:8080/v2/models/RandomForestClassifier/infer'}\n",
      "> 2022-09-06 17:28:26,634 [info] invoking function: {'method': 'POST', 'path': 'http://nuclio-berkeley-mlops-v2-model-server.default-tenant.svc.cluster.local:8080/v2/models/RandomForestClassifier/infer'}\n",
      "> 2022-09-06 17:28:26,666 [info] invoking function: {'method': 'POST', 'path': 'http://nuclio-berkeley-mlops-v2-model-server.default-tenant.svc.cluster.local:8080/v2/models/RandomForestClassifier/infer'}\n",
      "> 2022-09-06 17:28:26,698 [info] invoking function: {'method': 'POST', 'path': 'http://nuclio-berkeley-mlops-v2-model-server.default-tenant.svc.cluster.local:8080/v2/models/RandomForestClassifier/infer'}\n",
      "> 2022-09-06 17:28:26,730 [info] invoking function: {'method': 'POST', 'path': 'http://nuclio-berkeley-mlops-v2-model-server.default-tenant.svc.cluster.local:8080/v2/models/RandomForestClassifier/infer'}\n",
      "> 2022-09-06 17:28:26,762 [info] invoking function: {'method': 'POST', 'path': 'http://nuclio-berkeley-mlops-v2-model-server.default-tenant.svc.cluster.local:8080/v2/models/RandomForestClassifier/infer'}\n",
      "> 2022-09-06 17:28:26,793 [info] invoking function: {'method': 'POST', 'path': 'http://nuclio-berkeley-mlops-v2-model-server.default-tenant.svc.cluster.local:8080/v2/models/RandomForestClassifier/infer'}\n",
      "> 2022-09-06 17:28:26,825 [info] invoking function: {'method': 'POST', 'path': 'http://nuclio-berkeley-mlops-v2-model-server.default-tenant.svc.cluster.local:8080/v2/models/RandomForestClassifier/infer'}\n",
      "> 2022-09-06 17:28:26,857 [info] invoking function: {'method': 'POST', 'path': 'http://nuclio-berkeley-mlops-v2-model-server.default-tenant.svc.cluster.local:8080/v2/models/RandomForestClassifier/infer'}\n",
      "> 2022-09-06 17:28:26,889 [info] invoking function: {'method': 'POST', 'path': 'http://nuclio-berkeley-mlops-v2-model-server.default-tenant.svc.cluster.local:8080/v2/models/RandomForestClassifier/infer'}\n",
      "> 2022-09-06 17:28:26,922 [info] invoking function: {'method': 'POST', 'path': 'http://nuclio-berkeley-mlops-v2-model-server.default-tenant.svc.cluster.local:8080/v2/models/RandomForestClassifier/infer'}\n",
      "> 2022-09-06 17:28:26,953 [info] invoking function: {'method': 'POST', 'path': 'http://nuclio-berkeley-mlops-v2-model-server.default-tenant.svc.cluster.local:8080/v2/models/RandomForestClassifier/infer'}\n",
      "> 2022-09-06 17:28:26,986 [info] invoking function: {'method': 'POST', 'path': 'http://nuclio-berkeley-mlops-v2-model-server.default-tenant.svc.cluster.local:8080/v2/models/RandomForestClassifier/infer'}\n",
      "> 2022-09-06 17:28:27,017 [info] invoking function: {'method': 'POST', 'path': 'http://nuclio-berkeley-mlops-v2-model-server.default-tenant.svc.cluster.local:8080/v2/models/RandomForestClassifier/infer'}\n",
      "> 2022-09-06 17:28:27,048 [info] invoking function: {'method': 'POST', 'path': 'http://nuclio-berkeley-mlops-v2-model-server.default-tenant.svc.cluster.local:8080/v2/models/RandomForestClassifier/infer'}\n",
      "> 2022-09-06 17:28:27,079 [info] invoking function: {'method': 'POST', 'path': 'http://nuclio-berkeley-mlops-v2-model-server.default-tenant.svc.cluster.local:8080/v2/models/RandomForestClassifier/infer'}\n",
      "> 2022-09-06 17:28:27,111 [info] invoking function: {'method': 'POST', 'path': 'http://nuclio-berkeley-mlops-v2-model-server.default-tenant.svc.cluster.local:8080/v2/models/RandomForestClassifier/infer'}\n",
      "> 2022-09-06 17:28:27,143 [info] invoking function: {'method': 'POST', 'path': 'http://nuclio-berkeley-mlops-v2-model-server.default-tenant.svc.cluster.local:8080/v2/models/RandomForestClassifier/infer'}\n",
      "> 2022-09-06 17:28:27,175 [info] invoking function: {'method': 'POST', 'path': 'http://nuclio-berkeley-mlops-v2-model-server.default-tenant.svc.cluster.local:8080/v2/models/RandomForestClassifier/infer'}\n",
      "> 2022-09-06 17:28:27,207 [info] invoking function: {'method': 'POST', 'path': 'http://nuclio-berkeley-mlops-v2-model-server.default-tenant.svc.cluster.local:8080/v2/models/RandomForestClassifier/infer'}\n",
      "> 2022-09-06 17:28:27,238 [info] invoking function: {'method': 'POST', 'path': 'http://nuclio-berkeley-mlops-v2-model-server.default-tenant.svc.cluster.local:8080/v2/models/RandomForestClassifier/infer'}\n",
      "> 2022-09-06 17:28:27,270 [info] invoking function: {'method': 'POST', 'path': 'http://nuclio-berkeley-mlops-v2-model-server.default-tenant.svc.cluster.local:8080/v2/models/RandomForestClassifier/infer'}\n",
      "> 2022-09-06 17:28:27,302 [info] invoking function: {'method': 'POST', 'path': 'http://nuclio-berkeley-mlops-v2-model-server.default-tenant.svc.cluster.local:8080/v2/models/RandomForestClassifier/infer'}\n",
      "> 2022-09-06 17:28:27,334 [info] invoking function: {'method': 'POST', 'path': 'http://nuclio-berkeley-mlops-v2-model-server.default-tenant.svc.cluster.local:8080/v2/models/RandomForestClassifier/infer'}\n",
      "> 2022-09-06 17:28:27,365 [info] invoking function: {'method': 'POST', 'path': 'http://nuclio-berkeley-mlops-v2-model-server.default-tenant.svc.cluster.local:8080/v2/models/RandomForestClassifier/infer'}\n",
      "> 2022-09-06 17:28:27,399 [info] invoking function: {'method': 'POST', 'path': 'http://nuclio-berkeley-mlops-v2-model-server.default-tenant.svc.cluster.local:8080/v2/models/RandomForestClassifier/infer'}\n",
      "> 2022-09-06 17:28:27,432 [info] invoking function: {'method': 'POST', 'path': 'http://nuclio-berkeley-mlops-v2-model-server.default-tenant.svc.cluster.local:8080/v2/models/RandomForestClassifier/infer'}\n",
      "> 2022-09-06 17:28:27,463 [info] invoking function: {'method': 'POST', 'path': 'http://nuclio-berkeley-mlops-v2-model-server.default-tenant.svc.cluster.local:8080/v2/models/RandomForestClassifier/infer'}\n",
      "> 2022-09-06 17:28:27,494 [info] invoking function: {'method': 'POST', 'path': 'http://nuclio-berkeley-mlops-v2-model-server.default-tenant.svc.cluster.local:8080/v2/models/RandomForestClassifier/infer'}\n",
      "> 2022-09-06 17:28:27,526 [info] invoking function: {'method': 'POST', 'path': 'http://nuclio-berkeley-mlops-v2-model-server.default-tenant.svc.cluster.local:8080/v2/models/RandomForestClassifier/infer'}\n",
      "> 2022-09-06 17:28:27,558 [info] invoking function: {'method': 'POST', 'path': 'http://nuclio-berkeley-mlops-v2-model-server.default-tenant.svc.cluster.local:8080/v2/models/RandomForestClassifier/infer'}\n",
      "> 2022-09-06 17:28:27,590 [info] invoking function: {'method': 'POST', 'path': 'http://nuclio-berkeley-mlops-v2-model-server.default-tenant.svc.cluster.local:8080/v2/models/RandomForestClassifier/infer'}\n",
      "> 2022-09-06 17:28:27,623 [info] invoking function: {'method': 'POST', 'path': 'http://nuclio-berkeley-mlops-v2-model-server.default-tenant.svc.cluster.local:8080/v2/models/RandomForestClassifier/infer'}\n",
      "> 2022-09-06 17:28:27,657 [info] invoking function: {'method': 'POST', 'path': 'http://nuclio-berkeley-mlops-v2-model-server.default-tenant.svc.cluster.local:8080/v2/models/RandomForestClassifier/infer'}\n",
      "> 2022-09-06 17:28:27,690 [info] invoking function: {'method': 'POST', 'path': 'http://nuclio-berkeley-mlops-v2-model-server.default-tenant.svc.cluster.local:8080/v2/models/RandomForestClassifier/infer'}\n",
      "> 2022-09-06 17:28:27,721 [info] invoking function: {'method': 'POST', 'path': 'http://nuclio-berkeley-mlops-v2-model-server.default-tenant.svc.cluster.local:8080/v2/models/RandomForestClassifier/infer'}\n",
      "> 2022-09-06 17:28:27,753 [info] invoking function: {'method': 'POST', 'path': 'http://nuclio-berkeley-mlops-v2-model-server.default-tenant.svc.cluster.local:8080/v2/models/RandomForestClassifier/infer'}\n",
      "> 2022-09-06 17:28:27,785 [info] invoking function: {'method': 'POST', 'path': 'http://nuclio-berkeley-mlops-v2-model-server.default-tenant.svc.cluster.local:8080/v2/models/RandomForestClassifier/infer'}\n",
      "> 2022-09-06 17:28:27,816 [info] invoking function: {'method': 'POST', 'path': 'http://nuclio-berkeley-mlops-v2-model-server.default-tenant.svc.cluster.local:8080/v2/models/RandomForestClassifier/infer'}\n",
      "> 2022-09-06 17:28:27,848 [info] invoking function: {'method': 'POST', 'path': 'http://nuclio-berkeley-mlops-v2-model-server.default-tenant.svc.cluster.local:8080/v2/models/RandomForestClassifier/infer'}\n",
      "> 2022-09-06 17:28:27,880 [info] invoking function: {'method': 'POST', 'path': 'http://nuclio-berkeley-mlops-v2-model-server.default-tenant.svc.cluster.local:8080/v2/models/RandomForestClassifier/infer'}\n",
      "> 2022-09-06 17:28:27,914 [info] invoking function: {'method': 'POST', 'path': 'http://nuclio-berkeley-mlops-v2-model-server.default-tenant.svc.cluster.local:8080/v2/models/RandomForestClassifier/infer'}\n",
      "> 2022-09-06 17:28:27,948 [info] invoking function: {'method': 'POST', 'path': 'http://nuclio-berkeley-mlops-v2-model-server.default-tenant.svc.cluster.local:8080/v2/models/RandomForestClassifier/infer'}\n",
      "> 2022-09-06 17:28:27,980 [info] invoking function: {'method': 'POST', 'path': 'http://nuclio-berkeley-mlops-v2-model-server.default-tenant.svc.cluster.local:8080/v2/models/RandomForestClassifier/infer'}\n",
      "> 2022-09-06 17:28:28,011 [info] invoking function: {'method': 'POST', 'path': 'http://nuclio-berkeley-mlops-v2-model-server.default-tenant.svc.cluster.local:8080/v2/models/RandomForestClassifier/infer'}\n",
      "> 2022-09-06 17:28:28,042 [info] invoking function: {'method': 'POST', 'path': 'http://nuclio-berkeley-mlops-v2-model-server.default-tenant.svc.cluster.local:8080/v2/models/RandomForestClassifier/infer'}\n",
      "> 2022-09-06 17:28:28,085 [info] invoking function: {'method': 'POST', 'path': 'http://nuclio-berkeley-mlops-v2-model-server.default-tenant.svc.cluster.local:8080/v2/models/RandomForestClassifier/infer'}\n",
      "> 2022-09-06 17:28:28,117 [info] invoking function: {'method': 'POST', 'path': 'http://nuclio-berkeley-mlops-v2-model-server.default-tenant.svc.cluster.local:8080/v2/models/RandomForestClassifier/infer'}\n",
      "> 2022-09-06 17:28:28,149 [info] invoking function: {'method': 'POST', 'path': 'http://nuclio-berkeley-mlops-v2-model-server.default-tenant.svc.cluster.local:8080/v2/models/RandomForestClassifier/infer'}\n",
      "> 2022-09-06 17:28:28,182 [info] invoking function: {'method': 'POST', 'path': 'http://nuclio-berkeley-mlops-v2-model-server.default-tenant.svc.cluster.local:8080/v2/models/RandomForestClassifier/infer'}\n",
      "> 2022-09-06 17:28:28,214 [info] invoking function: {'method': 'POST', 'path': 'http://nuclio-berkeley-mlops-v2-model-server.default-tenant.svc.cluster.local:8080/v2/models/RandomForestClassifier/infer'}\n",
      "> 2022-09-06 17:28:28,246 [info] invoking function: {'method': 'POST', 'path': 'http://nuclio-berkeley-mlops-v2-model-server.default-tenant.svc.cluster.local:8080/v2/models/RandomForestClassifier/infer'}\n",
      "> 2022-09-06 17:28:28,277 [info] invoking function: {'method': 'POST', 'path': 'http://nuclio-berkeley-mlops-v2-model-server.default-tenant.svc.cluster.local:8080/v2/models/RandomForestClassifier/infer'}\n",
      "> 2022-09-06 17:28:28,310 [info] invoking function: {'method': 'POST', 'path': 'http://nuclio-berkeley-mlops-v2-model-server.default-tenant.svc.cluster.local:8080/v2/models/RandomForestClassifier/infer'}\n",
      "> 2022-09-06 17:28:28,343 [info] invoking function: {'method': 'POST', 'path': 'http://nuclio-berkeley-mlops-v2-model-server.default-tenant.svc.cluster.local:8080/v2/models/RandomForestClassifier/infer'}\n",
      "> 2022-09-06 17:28:28,377 [info] invoking function: {'method': 'POST', 'path': 'http://nuclio-berkeley-mlops-v2-model-server.default-tenant.svc.cluster.local:8080/v2/models/RandomForestClassifier/infer'}\n",
      "> 2022-09-06 17:28:28,412 [info] invoking function: {'method': 'POST', 'path': 'http://nuclio-berkeley-mlops-v2-model-server.default-tenant.svc.cluster.local:8080/v2/models/RandomForestClassifier/infer'}\n",
      "> 2022-09-06 17:28:28,445 [info] invoking function: {'method': 'POST', 'path': 'http://nuclio-berkeley-mlops-v2-model-server.default-tenant.svc.cluster.local:8080/v2/models/RandomForestClassifier/infer'}\n",
      "> 2022-09-06 17:28:28,477 [info] invoking function: {'method': 'POST', 'path': 'http://nuclio-berkeley-mlops-v2-model-server.default-tenant.svc.cluster.local:8080/v2/models/RandomForestClassifier/infer'}\n",
      "> 2022-09-06 17:28:28,510 [info] invoking function: {'method': 'POST', 'path': 'http://nuclio-berkeley-mlops-v2-model-server.default-tenant.svc.cluster.local:8080/v2/models/RandomForestClassifier/infer'}\n",
      "> 2022-09-06 17:28:28,545 [info] invoking function: {'method': 'POST', 'path': 'http://nuclio-berkeley-mlops-v2-model-server.default-tenant.svc.cluster.local:8080/v2/models/RandomForestClassifier/infer'}\n",
      "> 2022-09-06 17:28:28,578 [info] invoking function: {'method': 'POST', 'path': 'http://nuclio-berkeley-mlops-v2-model-server.default-tenant.svc.cluster.local:8080/v2/models/RandomForestClassifier/infer'}\n",
      "> 2022-09-06 17:28:28,611 [info] invoking function: {'method': 'POST', 'path': 'http://nuclio-berkeley-mlops-v2-model-server.default-tenant.svc.cluster.local:8080/v2/models/RandomForestClassifier/infer'}\n",
      "> 2022-09-06 17:28:28,643 [info] invoking function: {'method': 'POST', 'path': 'http://nuclio-berkeley-mlops-v2-model-server.default-tenant.svc.cluster.local:8080/v2/models/RandomForestClassifier/infer'}\n",
      "> 2022-09-06 17:28:28,676 [info] invoking function: {'method': 'POST', 'path': 'http://nuclio-berkeley-mlops-v2-model-server.default-tenant.svc.cluster.local:8080/v2/models/RandomForestClassifier/infer'}\n",
      "> 2022-09-06 17:28:28,711 [info] invoking function: {'method': 'POST', 'path': 'http://nuclio-berkeley-mlops-v2-model-server.default-tenant.svc.cluster.local:8080/v2/models/RandomForestClassifier/infer'}\n",
      "> 2022-09-06 17:28:28,743 [info] invoking function: {'method': 'POST', 'path': 'http://nuclio-berkeley-mlops-v2-model-server.default-tenant.svc.cluster.local:8080/v2/models/RandomForestClassifier/infer'}\n",
      "> 2022-09-06 17:28:28,776 [info] invoking function: {'method': 'POST', 'path': 'http://nuclio-berkeley-mlops-v2-model-server.default-tenant.svc.cluster.local:8080/v2/models/RandomForestClassifier/infer'}\n",
      "> 2022-09-06 17:28:28,808 [info] invoking function: {'method': 'POST', 'path': 'http://nuclio-berkeley-mlops-v2-model-server.default-tenant.svc.cluster.local:8080/v2/models/RandomForestClassifier/infer'}\n",
      "> 2022-09-06 17:28:28,840 [info] invoking function: {'method': 'POST', 'path': 'http://nuclio-berkeley-mlops-v2-model-server.default-tenant.svc.cluster.local:8080/v2/models/RandomForestClassifier/infer'}\n",
      "> 2022-09-06 17:28:28,877 [info] invoking function: {'method': 'POST', 'path': 'http://nuclio-berkeley-mlops-v2-model-server.default-tenant.svc.cluster.local:8080/v2/models/RandomForestClassifier/infer'}\n",
      "> 2022-09-06 17:28:28,911 [info] invoking function: {'method': 'POST', 'path': 'http://nuclio-berkeley-mlops-v2-model-server.default-tenant.svc.cluster.local:8080/v2/models/RandomForestClassifier/infer'}\n",
      "> 2022-09-06 17:28:28,946 [info] invoking function: {'method': 'POST', 'path': 'http://nuclio-berkeley-mlops-v2-model-server.default-tenant.svc.cluster.local:8080/v2/models/RandomForestClassifier/infer'}\n",
      "> 2022-09-06 17:28:28,978 [info] invoking function: {'method': 'POST', 'path': 'http://nuclio-berkeley-mlops-v2-model-server.default-tenant.svc.cluster.local:8080/v2/models/RandomForestClassifier/infer'}\n",
      "> 2022-09-06 17:28:29,011 [info] invoking function: {'method': 'POST', 'path': 'http://nuclio-berkeley-mlops-v2-model-server.default-tenant.svc.cluster.local:8080/v2/models/RandomForestClassifier/infer'}\n",
      "> 2022-09-06 17:28:29,044 [info] invoking function: {'method': 'POST', 'path': 'http://nuclio-berkeley-mlops-v2-model-server.default-tenant.svc.cluster.local:8080/v2/models/RandomForestClassifier/infer'}\n",
      "> 2022-09-06 17:28:29,076 [info] invoking function: {'method': 'POST', 'path': 'http://nuclio-berkeley-mlops-v2-model-server.default-tenant.svc.cluster.local:8080/v2/models/RandomForestClassifier/infer'}\n",
      "> 2022-09-06 17:28:29,108 [info] invoking function: {'method': 'POST', 'path': 'http://nuclio-berkeley-mlops-v2-model-server.default-tenant.svc.cluster.local:8080/v2/models/RandomForestClassifier/infer'}\n",
      "> 2022-09-06 17:28:29,141 [info] invoking function: {'method': 'POST', 'path': 'http://nuclio-berkeley-mlops-v2-model-server.default-tenant.svc.cluster.local:8080/v2/models/RandomForestClassifier/infer'}\n",
      "> 2022-09-06 17:28:29,187 [info] invoking function: {'method': 'POST', 'path': 'http://nuclio-berkeley-mlops-v2-model-server.default-tenant.svc.cluster.local:8080/v2/models/RandomForestClassifier/infer'}\n",
      "> 2022-09-06 17:28:29,220 [info] invoking function: {'method': 'POST', 'path': 'http://nuclio-berkeley-mlops-v2-model-server.default-tenant.svc.cluster.local:8080/v2/models/RandomForestClassifier/infer'}\n",
      "> 2022-09-06 17:28:29,254 [info] invoking function: {'method': 'POST', 'path': 'http://nuclio-berkeley-mlops-v2-model-server.default-tenant.svc.cluster.local:8080/v2/models/RandomForestClassifier/infer'}\n",
      "> 2022-09-06 17:28:29,290 [info] invoking function: {'method': 'POST', 'path': 'http://nuclio-berkeley-mlops-v2-model-server.default-tenant.svc.cluster.local:8080/v2/models/RandomForestClassifier/infer'}\n",
      "> 2022-09-06 17:28:29,322 [info] invoking function: {'method': 'POST', 'path': 'http://nuclio-berkeley-mlops-v2-model-server.default-tenant.svc.cluster.local:8080/v2/models/RandomForestClassifier/infer'}\n",
      "> 2022-09-06 17:28:29,355 [info] invoking function: {'method': 'POST', 'path': 'http://nuclio-berkeley-mlops-v2-model-server.default-tenant.svc.cluster.local:8080/v2/models/RandomForestClassifier/infer'}\n",
      "> 2022-09-06 17:28:29,387 [info] invoking function: {'method': 'POST', 'path': 'http://nuclio-berkeley-mlops-v2-model-server.default-tenant.svc.cluster.local:8080/v2/models/RandomForestClassifier/infer'}\n",
      "> 2022-09-06 17:28:29,422 [info] invoking function: {'method': 'POST', 'path': 'http://nuclio-berkeley-mlops-v2-model-server.default-tenant.svc.cluster.local:8080/v2/models/RandomForestClassifier/infer'}\n",
      "> 2022-09-06 17:28:29,455 [info] invoking function: {'method': 'POST', 'path': 'http://nuclio-berkeley-mlops-v2-model-server.default-tenant.svc.cluster.local:8080/v2/models/RandomForestClassifier/infer'}\n",
      "> 2022-09-06 17:28:29,487 [info] invoking function: {'method': 'POST', 'path': 'http://nuclio-berkeley-mlops-v2-model-server.default-tenant.svc.cluster.local:8080/v2/models/RandomForestClassifier/infer'}\n",
      "> 2022-09-06 17:28:29,520 [info] invoking function: {'method': 'POST', 'path': 'http://nuclio-berkeley-mlops-v2-model-server.default-tenant.svc.cluster.local:8080/v2/models/RandomForestClassifier/infer'}\n",
      "> 2022-09-06 17:28:29,556 [info] invoking function: {'method': 'POST', 'path': 'http://nuclio-berkeley-mlops-v2-model-server.default-tenant.svc.cluster.local:8080/v2/models/RandomForestClassifier/infer'}\n",
      "> 2022-09-06 17:28:29,590 [info] invoking function: {'method': 'POST', 'path': 'http://nuclio-berkeley-mlops-v2-model-server.default-tenant.svc.cluster.local:8080/v2/models/RandomForestClassifier/infer'}\n",
      "> 2022-09-06 17:28:29,625 [info] invoking function: {'method': 'POST', 'path': 'http://nuclio-berkeley-mlops-v2-model-server.default-tenant.svc.cluster.local:8080/v2/models/RandomForestClassifier/infer'}\n",
      "> 2022-09-06 17:28:29,667 [info] invoking function: {'method': 'POST', 'path': 'http://nuclio-berkeley-mlops-v2-model-server.default-tenant.svc.cluster.local:8080/v2/models/RandomForestClassifier/infer'}\n",
      "> 2022-09-06 17:28:29,699 [info] invoking function: {'method': 'POST', 'path': 'http://nuclio-berkeley-mlops-v2-model-server.default-tenant.svc.cluster.local:8080/v2/models/RandomForestClassifier/infer'}\n",
      "> 2022-09-06 17:28:29,733 [info] invoking function: {'method': 'POST', 'path': 'http://nuclio-berkeley-mlops-v2-model-server.default-tenant.svc.cluster.local:8080/v2/models/RandomForestClassifier/infer'}\n",
      "> 2022-09-06 17:28:29,765 [info] invoking function: {'method': 'POST', 'path': 'http://nuclio-berkeley-mlops-v2-model-server.default-tenant.svc.cluster.local:8080/v2/models/RandomForestClassifier/infer'}\n",
      "> 2022-09-06 17:28:29,797 [info] invoking function: {'method': 'POST', 'path': 'http://nuclio-berkeley-mlops-v2-model-server.default-tenant.svc.cluster.local:8080/v2/models/RandomForestClassifier/infer'}\n",
      "> 2022-09-06 17:28:29,829 [info] invoking function: {'method': 'POST', 'path': 'http://nuclio-berkeley-mlops-v2-model-server.default-tenant.svc.cluster.local:8080/v2/models/RandomForestClassifier/infer'}\n",
      "> 2022-09-06 17:28:29,861 [info] invoking function: {'method': 'POST', 'path': 'http://nuclio-berkeley-mlops-v2-model-server.default-tenant.svc.cluster.local:8080/v2/models/RandomForestClassifier/infer'}\n",
      "> 2022-09-06 17:28:29,894 [info] invoking function: {'method': 'POST', 'path': 'http://nuclio-berkeley-mlops-v2-model-server.default-tenant.svc.cluster.local:8080/v2/models/RandomForestClassifier/infer'}\n",
      "> 2022-09-06 17:28:29,927 [info] invoking function: {'method': 'POST', 'path': 'http://nuclio-berkeley-mlops-v2-model-server.default-tenant.svc.cluster.local:8080/v2/models/RandomForestClassifier/infer'}\n",
      "> 2022-09-06 17:28:29,963 [info] invoking function: {'method': 'POST', 'path': 'http://nuclio-berkeley-mlops-v2-model-server.default-tenant.svc.cluster.local:8080/v2/models/RandomForestClassifier/infer'}\n",
      "> 2022-09-06 17:28:29,995 [info] invoking function: {'method': 'POST', 'path': 'http://nuclio-berkeley-mlops-v2-model-server.default-tenant.svc.cluster.local:8080/v2/models/RandomForestClassifier/infer'}\n",
      "> 2022-09-06 17:28:30,027 [info] invoking function: {'method': 'POST', 'path': 'http://nuclio-berkeley-mlops-v2-model-server.default-tenant.svc.cluster.local:8080/v2/models/RandomForestClassifier/infer'}\n",
      "> 2022-09-06 17:28:30,060 [info] invoking function: {'method': 'POST', 'path': 'http://nuclio-berkeley-mlops-v2-model-server.default-tenant.svc.cluster.local:8080/v2/models/RandomForestClassifier/infer'}\n",
      "> 2022-09-06 17:28:30,093 [info] invoking function: {'method': 'POST', 'path': 'http://nuclio-berkeley-mlops-v2-model-server.default-tenant.svc.cluster.local:8080/v2/models/RandomForestClassifier/infer'}\n",
      "> 2022-09-06 17:28:30,125 [info] invoking function: {'method': 'POST', 'path': 'http://nuclio-berkeley-mlops-v2-model-server.default-tenant.svc.cluster.local:8080/v2/models/RandomForestClassifier/infer'}\n",
      "> 2022-09-06 17:28:30,156 [info] invoking function: {'method': 'POST', 'path': 'http://nuclio-berkeley-mlops-v2-model-server.default-tenant.svc.cluster.local:8080/v2/models/RandomForestClassifier/infer'}\n",
      "> 2022-09-06 17:28:30,189 [info] invoking function: {'method': 'POST', 'path': 'http://nuclio-berkeley-mlops-v2-model-server.default-tenant.svc.cluster.local:8080/v2/models/RandomForestClassifier/infer'}\n",
      "> 2022-09-06 17:28:30,221 [info] invoking function: {'method': 'POST', 'path': 'http://nuclio-berkeley-mlops-v2-model-server.default-tenant.svc.cluster.local:8080/v2/models/RandomForestClassifier/infer'}\n",
      "> 2022-09-06 17:28:30,252 [info] invoking function: {'method': 'POST', 'path': 'http://nuclio-berkeley-mlops-v2-model-server.default-tenant.svc.cluster.local:8080/v2/models/RandomForestClassifier/infer'}\n",
      "> 2022-09-06 17:28:30,288 [info] invoking function: {'method': 'POST', 'path': 'http://nuclio-berkeley-mlops-v2-model-server.default-tenant.svc.cluster.local:8080/v2/models/RandomForestClassifier/infer'}\n",
      "> 2022-09-06 17:28:30,321 [info] invoking function: {'method': 'POST', 'path': 'http://nuclio-berkeley-mlops-v2-model-server.default-tenant.svc.cluster.local:8080/v2/models/RandomForestClassifier/infer'}\n",
      "> 2022-09-06 17:28:30,362 [info] invoking function: {'method': 'POST', 'path': 'http://nuclio-berkeley-mlops-v2-model-server.default-tenant.svc.cluster.local:8080/v2/models/RandomForestClassifier/infer'}\n",
      "> 2022-09-06 17:28:30,394 [info] invoking function: {'method': 'POST', 'path': 'http://nuclio-berkeley-mlops-v2-model-server.default-tenant.svc.cluster.local:8080/v2/models/RandomForestClassifier/infer'}\n",
      "> 2022-09-06 17:28:30,426 [info] invoking function: {'method': 'POST', 'path': 'http://nuclio-berkeley-mlops-v2-model-server.default-tenant.svc.cluster.local:8080/v2/models/RandomForestClassifier/infer'}\n",
      "> 2022-09-06 17:28:30,459 [info] invoking function: {'method': 'POST', 'path': 'http://nuclio-berkeley-mlops-v2-model-server.default-tenant.svc.cluster.local:8080/v2/models/RandomForestClassifier/infer'}\n",
      "> 2022-09-06 17:28:30,491 [info] invoking function: {'method': 'POST', 'path': 'http://nuclio-berkeley-mlops-v2-model-server.default-tenant.svc.cluster.local:8080/v2/models/RandomForestClassifier/infer'}\n",
      "> 2022-09-06 17:28:30,522 [info] invoking function: {'method': 'POST', 'path': 'http://nuclio-berkeley-mlops-v2-model-server.default-tenant.svc.cluster.local:8080/v2/models/RandomForestClassifier/infer'}\n",
      "> 2022-09-06 17:28:30,555 [info] invoking function: {'method': 'POST', 'path': 'http://nuclio-berkeley-mlops-v2-model-server.default-tenant.svc.cluster.local:8080/v2/models/RandomForestClassifier/infer'}\n",
      "> 2022-09-06 17:28:30,590 [info] invoking function: {'method': 'POST', 'path': 'http://nuclio-berkeley-mlops-v2-model-server.default-tenant.svc.cluster.local:8080/v2/models/RandomForestClassifier/infer'}\n",
      "> 2022-09-06 17:28:30,622 [info] invoking function: {'method': 'POST', 'path': 'http://nuclio-berkeley-mlops-v2-model-server.default-tenant.svc.cluster.local:8080/v2/models/RandomForestClassifier/infer'}\n",
      "> 2022-09-06 17:28:30,654 [info] invoking function: {'method': 'POST', 'path': 'http://nuclio-berkeley-mlops-v2-model-server.default-tenant.svc.cluster.local:8080/v2/models/RandomForestClassifier/infer'}\n",
      "> 2022-09-06 17:28:30,685 [info] invoking function: {'method': 'POST', 'path': 'http://nuclio-berkeley-mlops-v2-model-server.default-tenant.svc.cluster.local:8080/v2/models/RandomForestClassifier/infer'}\n",
      "> 2022-09-06 17:28:30,717 [info] invoking function: {'method': 'POST', 'path': 'http://nuclio-berkeley-mlops-v2-model-server.default-tenant.svc.cluster.local:8080/v2/models/RandomForestClassifier/infer'}\n",
      "> 2022-09-06 17:28:30,748 [info] invoking function: {'method': 'POST', 'path': 'http://nuclio-berkeley-mlops-v2-model-server.default-tenant.svc.cluster.local:8080/v2/models/RandomForestClassifier/infer'}\n",
      "> 2022-09-06 17:28:30,781 [info] invoking function: {'method': 'POST', 'path': 'http://nuclio-berkeley-mlops-v2-model-server.default-tenant.svc.cluster.local:8080/v2/models/RandomForestClassifier/infer'}\n",
      "> 2022-09-06 17:28:30,813 [info] invoking function: {'method': 'POST', 'path': 'http://nuclio-berkeley-mlops-v2-model-server.default-tenant.svc.cluster.local:8080/v2/models/RandomForestClassifier/infer'}\n",
      "> 2022-09-06 17:28:30,844 [info] invoking function: {'method': 'POST', 'path': 'http://nuclio-berkeley-mlops-v2-model-server.default-tenant.svc.cluster.local:8080/v2/models/RandomForestClassifier/infer'}\n",
      "> 2022-09-06 17:28:30,876 [info] invoking function: {'method': 'POST', 'path': 'http://nuclio-berkeley-mlops-v2-model-server.default-tenant.svc.cluster.local:8080/v2/models/RandomForestClassifier/infer'}\n",
      "> 2022-09-06 17:28:30,907 [info] invoking function: {'method': 'POST', 'path': 'http://nuclio-berkeley-mlops-v2-model-server.default-tenant.svc.cluster.local:8080/v2/models/RandomForestClassifier/infer'}\n",
      "> 2022-09-06 17:28:30,939 [info] invoking function: {'method': 'POST', 'path': 'http://nuclio-berkeley-mlops-v2-model-server.default-tenant.svc.cluster.local:8080/v2/models/RandomForestClassifier/infer'}\n",
      "> 2022-09-06 17:28:30,971 [info] invoking function: {'method': 'POST', 'path': 'http://nuclio-berkeley-mlops-v2-model-server.default-tenant.svc.cluster.local:8080/v2/models/RandomForestClassifier/infer'}\n",
      "> 2022-09-06 17:28:31,003 [info] invoking function: {'method': 'POST', 'path': 'http://nuclio-berkeley-mlops-v2-model-server.default-tenant.svc.cluster.local:8080/v2/models/RandomForestClassifier/infer'}\n",
      "> 2022-09-06 17:28:31,035 [info] invoking function: {'method': 'POST', 'path': 'http://nuclio-berkeley-mlops-v2-model-server.default-tenant.svc.cluster.local:8080/v2/models/RandomForestClassifier/infer'}\n",
      "> 2022-09-06 17:28:31,067 [info] invoking function: {'method': 'POST', 'path': 'http://nuclio-berkeley-mlops-v2-model-server.default-tenant.svc.cluster.local:8080/v2/models/RandomForestClassifier/infer'}\n",
      "> 2022-09-06 17:28:31,102 [info] invoking function: {'method': 'POST', 'path': 'http://nuclio-berkeley-mlops-v2-model-server.default-tenant.svc.cluster.local:8080/v2/models/RandomForestClassifier/infer'}\n",
      "> 2022-09-06 17:28:31,142 [info] invoking function: {'method': 'POST', 'path': 'http://nuclio-berkeley-mlops-v2-model-server.default-tenant.svc.cluster.local:8080/v2/models/RandomForestClassifier/infer'}\n",
      "> 2022-09-06 17:28:31,180 [info] invoking function: {'method': 'POST', 'path': 'http://nuclio-berkeley-mlops-v2-model-server.default-tenant.svc.cluster.local:8080/v2/models/RandomForestClassifier/infer'}\n",
      "> 2022-09-06 17:28:31,218 [info] invoking function: {'method': 'POST', 'path': 'http://nuclio-berkeley-mlops-v2-model-server.default-tenant.svc.cluster.local:8080/v2/models/RandomForestClassifier/infer'}\n",
      "> 2022-09-06 17:28:31,254 [info] invoking function: {'method': 'POST', 'path': 'http://nuclio-berkeley-mlops-v2-model-server.default-tenant.svc.cluster.local:8080/v2/models/RandomForestClassifier/infer'}\n",
      "> 2022-09-06 17:28:31,290 [info] invoking function: {'method': 'POST', 'path': 'http://nuclio-berkeley-mlops-v2-model-server.default-tenant.svc.cluster.local:8080/v2/models/RandomForestClassifier/infer'}\n",
      "> 2022-09-06 17:28:31,323 [info] invoking function: {'method': 'POST', 'path': 'http://nuclio-berkeley-mlops-v2-model-server.default-tenant.svc.cluster.local:8080/v2/models/RandomForestClassifier/infer'}\n",
      "> 2022-09-06 17:28:31,356 [info] invoking function: {'method': 'POST', 'path': 'http://nuclio-berkeley-mlops-v2-model-server.default-tenant.svc.cluster.local:8080/v2/models/RandomForestClassifier/infer'}\n",
      "> 2022-09-06 17:28:31,391 [info] invoking function: {'method': 'POST', 'path': 'http://nuclio-berkeley-mlops-v2-model-server.default-tenant.svc.cluster.local:8080/v2/models/RandomForestClassifier/infer'}\n",
      "> 2022-09-06 17:28:31,423 [info] invoking function: {'method': 'POST', 'path': 'http://nuclio-berkeley-mlops-v2-model-server.default-tenant.svc.cluster.local:8080/v2/models/RandomForestClassifier/infer'}\n",
      "> 2022-09-06 17:28:31,460 [info] invoking function: {'method': 'POST', 'path': 'http://nuclio-berkeley-mlops-v2-model-server.default-tenant.svc.cluster.local:8080/v2/models/RandomForestClassifier/infer'}\n",
      "> 2022-09-06 17:28:31,494 [info] invoking function: {'method': 'POST', 'path': 'http://nuclio-berkeley-mlops-v2-model-server.default-tenant.svc.cluster.local:8080/v2/models/RandomForestClassifier/infer'}\n",
      "> 2022-09-06 17:28:31,528 [info] invoking function: {'method': 'POST', 'path': 'http://nuclio-berkeley-mlops-v2-model-server.default-tenant.svc.cluster.local:8080/v2/models/RandomForestClassifier/infer'}\n",
      "> 2022-09-06 17:28:31,560 [info] invoking function: {'method': 'POST', 'path': 'http://nuclio-berkeley-mlops-v2-model-server.default-tenant.svc.cluster.local:8080/v2/models/RandomForestClassifier/infer'}\n",
      "> 2022-09-06 17:28:31,592 [info] invoking function: {'method': 'POST', 'path': 'http://nuclio-berkeley-mlops-v2-model-server.default-tenant.svc.cluster.local:8080/v2/models/RandomForestClassifier/infer'}\n",
      "> 2022-09-06 17:28:31,624 [info] invoking function: {'method': 'POST', 'path': 'http://nuclio-berkeley-mlops-v2-model-server.default-tenant.svc.cluster.local:8080/v2/models/RandomForestClassifier/infer'}\n",
      "> 2022-09-06 17:28:31,670 [info] invoking function: {'method': 'POST', 'path': 'http://nuclio-berkeley-mlops-v2-model-server.default-tenant.svc.cluster.local:8080/v2/models/RandomForestClassifier/infer'}\n",
      "> 2022-09-06 17:28:31,707 [info] invoking function: {'method': 'POST', 'path': 'http://nuclio-berkeley-mlops-v2-model-server.default-tenant.svc.cluster.local:8080/v2/models/RandomForestClassifier/infer'}\n",
      "> 2022-09-06 17:28:31,740 [info] invoking function: {'method': 'POST', 'path': 'http://nuclio-berkeley-mlops-v2-model-server.default-tenant.svc.cluster.local:8080/v2/models/RandomForestClassifier/infer'}\n",
      "> 2022-09-06 17:28:31,777 [info] invoking function: {'method': 'POST', 'path': 'http://nuclio-berkeley-mlops-v2-model-server.default-tenant.svc.cluster.local:8080/v2/models/RandomForestClassifier/infer'}\n",
      "> 2022-09-06 17:28:31,811 [info] invoking function: {'method': 'POST', 'path': 'http://nuclio-berkeley-mlops-v2-model-server.default-tenant.svc.cluster.local:8080/v2/models/RandomForestClassifier/infer'}\n",
      "> 2022-09-06 17:28:31,866 [info] invoking function: {'method': 'POST', 'path': 'http://nuclio-berkeley-mlops-v2-model-server.default-tenant.svc.cluster.local:8080/v2/models/RandomForestClassifier/infer'}\n",
      "> 2022-09-06 17:28:32,031 [info] invoking function: {'method': 'POST', 'path': 'http://nuclio-berkeley-mlops-v2-model-server.default-tenant.svc.cluster.local:8080/v2/models/RandomForestClassifier/infer'}\n",
      "> 2022-09-06 17:28:32,134 [info] invoking function: {'method': 'POST', 'path': 'http://nuclio-berkeley-mlops-v2-model-server.default-tenant.svc.cluster.local:8080/v2/models/RandomForestClassifier/infer'}\n",
      "> 2022-09-06 17:28:32,166 [info] invoking function: {'method': 'POST', 'path': 'http://nuclio-berkeley-mlops-v2-model-server.default-tenant.svc.cluster.local:8080/v2/models/RandomForestClassifier/infer'}\n",
      "> 2022-09-06 17:28:32,197 [info] invoking function: {'method': 'POST', 'path': 'http://nuclio-berkeley-mlops-v2-model-server.default-tenant.svc.cluster.local:8080/v2/models/RandomForestClassifier/infer'}\n",
      "> 2022-09-06 17:28:32,229 [info] invoking function: {'method': 'POST', 'path': 'http://nuclio-berkeley-mlops-v2-model-server.default-tenant.svc.cluster.local:8080/v2/models/RandomForestClassifier/infer'}\n",
      "> 2022-09-06 17:28:32,267 [info] invoking function: {'method': 'POST', 'path': 'http://nuclio-berkeley-mlops-v2-model-server.default-tenant.svc.cluster.local:8080/v2/models/RandomForestClassifier/infer'}\n",
      "> 2022-09-06 17:28:32,299 [info] invoking function: {'method': 'POST', 'path': 'http://nuclio-berkeley-mlops-v2-model-server.default-tenant.svc.cluster.local:8080/v2/models/RandomForestClassifier/infer'}\n"
     ]
    }
   ],
   "source": [
    "import json\n",
    "from time import sleep\n",
    "from random import choice, uniform\n",
    "\n",
    "iris_data = pd.read_csv(\"train.csv\").to_dict(orient=\"split\")[\"data\"]\n",
    "\n",
    "while True:\n",
    "    data_point = choice(iris_data)\n",
    "    serving_fn.invoke(f'v2/models/{model_name}/infer', json.dumps({'inputs': [data_point]}))\n",
    "#     sleep(uniform(0.2, 1.7))"
   ]
  },
  {
   "cell_type": "code",
   "execution_count": null,
   "metadata": {},
   "outputs": [],
   "source": []
  }
 ],
 "metadata": {
  "kernelspec": {
   "display_name": "Python 3",
   "language": "python",
   "name": "python3"
  },
  "language_info": {
   "codemirror_mode": {
    "name": "ipython",
    "version": 3
   },
   "file_extension": ".py",
   "mimetype": "text/x-python",
   "name": "python",
   "nbconvert_exporter": "python",
   "pygments_lexer": "ipython3",
   "version": "3.7.6"
  }
 },
 "nbformat": 4,
 "nbformat_minor": 4
}
