{
 "cells": [
  {
   "cell_type": "markdown",
   "id": "2c98cc04",
   "metadata": {},
   "source": [
    "# Abstractions to Containerize Code/Model"
   ]
  },
  {
   "cell_type": "markdown",
   "id": "78d5a591",
   "metadata": {},
   "source": [
    "## Setup Project\n",
    "\n",
    "Create project to separate resources."
   ]
  },
  {
   "cell_type": "code",
   "execution_count": 1,
   "id": "4d783cab",
   "metadata": {},
   "outputs": [],
   "source": [
    "import mlrun\n",
    "import requests"
   ]
  },
  {
   "cell_type": "code",
   "execution_count": 2,
   "id": "48976fa7",
   "metadata": {},
   "outputs": [
    {
     "name": "stdout",
     "output_type": "stream",
     "text": [
      "> 2022-09-06 16:57:10,161 [info] created and saved project berkeley-mlops\n"
     ]
    }
   ],
   "source": [
    "project = mlrun.get_or_create_project(name=\"berkeley-mlops\", context=\".\")"
   ]
  },
  {
   "cell_type": "markdown",
   "id": "9b03442e",
   "metadata": {},
   "source": [
    "## Simple Job\n",
    "\n",
    "Something to run once to completion"
   ]
  },
  {
   "cell_type": "code",
   "execution_count": 4,
   "id": "4e1356e7",
   "metadata": {},
   "outputs": [
    {
     "name": "stdout",
     "output_type": "stream",
     "text": [
      "Overwriting job.py\n"
     ]
    }
   ],
   "source": [
    "%%writefile job.py\n",
    "import mlrun\n",
    "import pandas as pd\n",
    "from sklearn.datasets import load_iris\n",
    "\n",
    "def prep_data(context, label_column='label'):\n",
    "    iris = load_iris()\n",
    "    iris_dataset = pd.DataFrame(data=iris.data, columns=iris.feature_names)\n",
    "    iris_labels = pd.DataFrame(data=iris.target, columns=[label_column])\n",
    "    iris_dataset = pd.concat([iris_dataset, iris_labels], axis=1)\n",
    "    \n",
    "    context.logger.info(f'saving iris dataframe to {context.artifact_path}')\n",
    "    context.log_dataset('iris_dataset', df=iris_dataset, format=\"csv\", index=False)\n",
    "    context.log_result('num_rows', iris_dataset.shape[0])"
   ]
  },
  {
   "cell_type": "code",
   "execution_count": 5,
   "id": "e4031eb4",
   "metadata": {},
   "outputs": [],
   "source": [
    "job = mlrun.code_to_function(\n",
    "    name=\"simple-job\",\n",
    "    filename=\"job.py\",\n",
    "    kind=\"job\",\n",
    "    image=\"mlrun/mlrun\",\n",
    "    handler=\"prep_data\"\n",
    ")"
   ]
  },
  {
   "cell_type": "code",
   "execution_count": 6,
   "id": "978c8079",
   "metadata": {},
   "outputs": [
    {
     "name": "stdout",
     "output_type": "stream",
     "text": [
      "> 2022-09-06 16:58:35,049 [info] starting run simple-job-prep_data uid=00182713765940a6af2d903ed0ead3bc DB=http://mlrun-api:8080\n",
      "> 2022-09-06 16:58:35,222 [info] Job is running in the background, pod: simple-job-prep-data-rhlpx\n",
      "> 2022-09-06 16:58:38,984 [info] saving iris dataframe to v3io:///projects/berkeley-mlops/artifacts\n",
      "> 2022-09-06 16:58:39,077 [info] run executed, status=completed\n",
      "final state: completed\n"
     ]
    },
    {
     "data": {
      "text/html": [
       "<style>\n",
       ".dictlist {\n",
       "  background-color: #4EC64B;\n",
       "  text-align: center;\n",
       "  margin: 4px;\n",
       "  border-radius: 3px; padding: 0px 3px 1px 3px; display: inline-block;}\n",
       ".artifact {\n",
       "  cursor: pointer;\n",
       "  background-color: #4EC64B;\n",
       "  text-align: left;\n",
       "  margin: 4px; border-radius: 3px; padding: 0px 3px 1px 3px; display: inline-block;\n",
       "}\n",
       "div.block.hidden {\n",
       "  display: none;\n",
       "}\n",
       ".clickable {\n",
       "  cursor: pointer;\n",
       "}\n",
       ".ellipsis {\n",
       "  display: inline-block;\n",
       "  max-width: 60px;\n",
       "  white-space: nowrap;\n",
       "  overflow: hidden;\n",
       "  text-overflow: ellipsis;\n",
       "}\n",
       ".master-wrapper {\n",
       "  display: flex;\n",
       "  flex-flow: row nowrap;\n",
       "  justify-content: flex-start;\n",
       "  align-items: stretch;\n",
       "}\n",
       ".master-tbl {\n",
       "  flex: 3\n",
       "}\n",
       ".master-wrapper > div {\n",
       "  margin: 4px;\n",
       "  padding: 10px;\n",
       "}\n",
       "iframe.fileview {\n",
       "  border: 0 none;\n",
       "  height: 100%;\n",
       "  width: 100%;\n",
       "  white-space: pre-wrap;\n",
       "}\n",
       ".pane-header-title {\n",
       "  width: 80%;\n",
       "  font-weight: 500;\n",
       "}\n",
       ".pane-header {\n",
       "  line-height: 1;\n",
       "  background-color: #4EC64B;\n",
       "  padding: 3px;\n",
       "}\n",
       ".pane-header .close {\n",
       "  font-size: 20px;\n",
       "  font-weight: 700;\n",
       "  float: right;\n",
       "  margin-top: -5px;\n",
       "}\n",
       ".master-wrapper .right-pane {\n",
       "  border: 1px inset silver;\n",
       "  width: 40%;\n",
       "  min-height: 300px;\n",
       "  flex: 3\n",
       "  min-width: 500px;\n",
       "}\n",
       ".master-wrapper * {\n",
       "  box-sizing: border-box;\n",
       "}\n",
       "</style><script>\n",
       "function copyToClipboard(fld) {\n",
       "    if (document.queryCommandSupported && document.queryCommandSupported('copy')) {\n",
       "        var textarea = document.createElement('textarea');\n",
       "        textarea.textContent = fld.innerHTML;\n",
       "        textarea.style.position = 'fixed';\n",
       "        document.body.appendChild(textarea);\n",
       "        textarea.select();\n",
       "\n",
       "        try {\n",
       "            return document.execCommand('copy'); // Security exception may be thrown by some browsers.\n",
       "        } catch (ex) {\n",
       "\n",
       "        } finally {\n",
       "            document.body.removeChild(textarea);\n",
       "        }\n",
       "    }\n",
       "}\n",
       "function expandPanel(el) {\n",
       "  const panelName = \"#\" + el.getAttribute('paneName');\n",
       "  console.log(el.title);\n",
       "\n",
       "  document.querySelector(panelName + \"-title\").innerHTML = el.title\n",
       "  iframe = document.querySelector(panelName + \"-body\");\n",
       "\n",
       "  const tblcss = `<style> body { font-family: Arial, Helvetica, sans-serif;}\n",
       "    #csv { margin-bottom: 15px; }\n",
       "    #csv table { border-collapse: collapse;}\n",
       "    #csv table td { padding: 4px 8px; border: 1px solid silver;} </style>`;\n",
       "\n",
       "  function csvToHtmlTable(str) {\n",
       "    return '<div id=\"csv\"><table><tr><td>' +  str.replace(/[\\n\\r]+$/g, '').replace(/[\\n\\r]+/g, '</td></tr><tr><td>')\n",
       "      .replace(/,/g, '</td><td>') + '</td></tr></table></div>';\n",
       "  }\n",
       "\n",
       "  function reqListener () {\n",
       "    if (el.title.endsWith(\".csv\")) {\n",
       "      iframe.setAttribute(\"srcdoc\", tblcss + csvToHtmlTable(this.responseText));\n",
       "    } else {\n",
       "      iframe.setAttribute(\"srcdoc\", this.responseText);\n",
       "    }\n",
       "    console.log(this.responseText);\n",
       "  }\n",
       "\n",
       "  const oReq = new XMLHttpRequest();\n",
       "  oReq.addEventListener(\"load\", reqListener);\n",
       "  oReq.open(\"GET\", el.title);\n",
       "  oReq.send();\n",
       "\n",
       "\n",
       "  //iframe.src = el.title;\n",
       "  const resultPane = document.querySelector(panelName + \"-pane\");\n",
       "  if (resultPane.classList.contains(\"hidden\")) {\n",
       "    resultPane.classList.remove(\"hidden\");\n",
       "  }\n",
       "}\n",
       "function closePanel(el) {\n",
       "  const panelName = \"#\" + el.getAttribute('paneName')\n",
       "  const resultPane = document.querySelector(panelName + \"-pane\");\n",
       "  if (!resultPane.classList.contains(\"hidden\")) {\n",
       "    resultPane.classList.add(\"hidden\");\n",
       "  }\n",
       "}\n",
       "\n",
       "</script>\n",
       "<div class=\"master-wrapper\">\n",
       "  <div class=\"block master-tbl\"><div>\n",
       "<style scoped>\n",
       "    .dataframe tbody tr th:only-of-type {\n",
       "        vertical-align: middle;\n",
       "    }\n",
       "\n",
       "    .dataframe tbody tr th {\n",
       "        vertical-align: top;\n",
       "    }\n",
       "\n",
       "    .dataframe thead th {\n",
       "        text-align: right;\n",
       "    }\n",
       "</style>\n",
       "<table border=\"1\" class=\"dataframe\">\n",
       "  <thead>\n",
       "    <tr style=\"text-align: right;\">\n",
       "      <th>project</th>\n",
       "      <th>uid</th>\n",
       "      <th>iter</th>\n",
       "      <th>start</th>\n",
       "      <th>state</th>\n",
       "      <th>name</th>\n",
       "      <th>labels</th>\n",
       "      <th>inputs</th>\n",
       "      <th>parameters</th>\n",
       "      <th>results</th>\n",
       "      <th>artifacts</th>\n",
       "    </tr>\n",
       "  </thead>\n",
       "  <tbody>\n",
       "    <tr>\n",
       "      <td>berkeley-mlops</td>\n",
       "      <td><div title=\"00182713765940a6af2d903ed0ead3bc\"><a href=\"https://dashboard.default-tenant.app.us-sales-350.iguazio-cd1.com/mlprojects/berkeley-mlops/jobs/monitor/00182713765940a6af2d903ed0ead3bc/overview\" target=\"_blank\" >...d0ead3bc</a></div></td>\n",
       "      <td>0</td>\n",
       "      <td>Sep 06 16:58:38</td>\n",
       "      <td>completed</td>\n",
       "      <td>simple-job-prep_data</td>\n",
       "      <td><div class=\"dictlist\">v3io_user=nick</div><div class=\"dictlist\">kind=job</div><div class=\"dictlist\">owner=nick</div><div class=\"dictlist\">mlrun/client_version=1.0.4</div><div class=\"dictlist\">host=simple-job-prep-data-rhlpx</div></td>\n",
       "      <td></td>\n",
       "      <td></td>\n",
       "      <td><div class=\"dictlist\">num_rows=150</div></td>\n",
       "      <td><div class=\"artifact\" onclick=\"expandPanel(this)\" paneName=\"result44afb042\" title=\"files/v3io/projects/berkeley-mlops/artifacts/iris_dataset.csv\">iris_dataset</div></td>\n",
       "    </tr>\n",
       "  </tbody>\n",
       "</table>\n",
       "</div></div>\n",
       "  <div id=\"result44afb042-pane\" class=\"right-pane block hidden\">\n",
       "    <div class=\"pane-header\">\n",
       "      <span id=\"result44afb042-title\" class=\"pane-header-title\">Title</span>\n",
       "      <span onclick=\"closePanel(this)\" paneName=\"result44afb042\" class=\"close clickable\">&times;</span>\n",
       "    </div>\n",
       "    <iframe class=\"fileview\" id=\"result44afb042-body\"></iframe>\n",
       "  </div>\n",
       "</div>\n"
      ],
      "text/plain": [
       "<IPython.core.display.HTML object>"
      ]
     },
     "metadata": {},
     "output_type": "display_data"
    },
    {
     "name": "stdout",
     "output_type": "stream",
     "text": [
      "\n"
     ]
    },
    {
     "data": {
      "text/html": [
       "<b> > to track results use the .show() or .logs() methods  or <a href=\"https://dashboard.default-tenant.app.us-sales-350.iguazio-cd1.com/mlprojects/berkeley-mlops/jobs/monitor/00182713765940a6af2d903ed0ead3bc/overview\" target=\"_blank\">click here</a> to open in UI</b>"
      ],
      "text/plain": [
       "<IPython.core.display.HTML object>"
      ]
     },
     "metadata": {},
     "output_type": "display_data"
    },
    {
     "name": "stdout",
     "output_type": "stream",
     "text": [
      "> 2022-09-06 16:58:41,548 [info] run executed, status=completed\n"
     ]
    },
    {
     "data": {
      "text/plain": [
       "<mlrun.model.RunObject at 0x7fc7e2ff3e50>"
      ]
     },
     "execution_count": 6,
     "metadata": {},
     "output_type": "execute_result"
    }
   ],
   "source": [
    "job.run()"
   ]
  },
  {
   "cell_type": "markdown",
   "id": "68fcc97d",
   "metadata": {},
   "source": [
    "## Simple Real-Time Function\n",
    "\n",
    "An endpoint that is waiting for requests. Can scale to 0 if desired."
   ]
  },
  {
   "cell_type": "code",
   "execution_count": 8,
   "id": "bb83e3ac",
   "metadata": {},
   "outputs": [
    {
     "name": "stdout",
     "output_type": "stream",
     "text": [
      "Overwriting rt.py\n"
     ]
    }
   ],
   "source": [
    "%%writefile rt.py\n",
    "import random\n",
    "\n",
    "def random_result(context, event):\n",
    "    return {\"result\" : str(random.random())}"
   ]
  },
  {
   "cell_type": "code",
   "execution_count": 9,
   "id": "20c255bb",
   "metadata": {},
   "outputs": [],
   "source": [
    "rt = mlrun.code_to_function(\n",
    "    name=\"simple-rt\",\n",
    "    filename=\"rt.py\",\n",
    "    kind=\"nuclio\",\n",
    "    image=\"mlrun/mlrun\",\n",
    "    handler=\"random_result\"\n",
    ")"
   ]
  },
  {
   "cell_type": "code",
   "execution_count": 10,
   "id": "ab362397",
   "metadata": {},
   "outputs": [
    {
     "name": "stdout",
     "output_type": "stream",
     "text": [
      "> 2022-09-06 17:00:24,249 [info] Starting remote function deploy\n",
      "2022-09-06 17:00:24  (info) Deploying function\n",
      "2022-09-06 17:00:24  (info) Building\n",
      "2022-09-06 17:00:24  (info) Staging files and preparing base images\n",
      "2022-09-06 17:00:24  (info) Building processor image\n",
      "2022-09-06 17:01:29  (info) Build complete\n",
      "2022-09-06 17:02:09  (info) Function deploy complete\n",
      "> 2022-09-06 17:02:09,753 [info] successfully deployed function: {'internal_invocation_urls': ['nuclio-berkeley-mlops-simple-rt.default-tenant.svc.cluster.local:8080'], 'external_invocation_urls': ['berkeley-mlops-simple-rt-berkeley-mlops.default-tenant.app.us-sales-350.iguazio-cd1.com/']}\n"
     ]
    }
   ],
   "source": [
    "url = rt.deploy()"
   ]
  },
  {
   "cell_type": "code",
   "execution_count": 11,
   "id": "0d946a80",
   "metadata": {},
   "outputs": [
    {
     "data": {
      "text/plain": [
       "'http://berkeley-mlops-simple-rt-berkeley-mlops.default-tenant.app.us-sales-350.iguazio-cd1.com/'"
      ]
     },
     "execution_count": 11,
     "metadata": {},
     "output_type": "execute_result"
    }
   ],
   "source": [
    "url"
   ]
  },
  {
   "cell_type": "code",
   "execution_count": 17,
   "id": "1e8d4a70",
   "metadata": {},
   "outputs": [
    {
     "data": {
      "text/plain": [
       "{'result': '0.30656081561393633'}"
      ]
     },
     "execution_count": 17,
     "metadata": {},
     "output_type": "execute_result"
    }
   ],
   "source": [
    "requests.get(url).json()"
   ]
  },
  {
   "cell_type": "markdown",
   "id": "e6948f3d",
   "metadata": {},
   "source": [
    "## Simple Model Deployment\n",
    "\n",
    "An endpoint specifically designed for model serving that is waiting for requests. Allows for specifying a model's behavior using a Python class. Can scale to 0 if desired."
   ]
  },
  {
   "cell_type": "code",
   "execution_count": 18,
   "id": "19c67715",
   "metadata": {},
   "outputs": [
    {
     "name": "stdout",
     "output_type": "stream",
     "text": [
      "Overwriting model.py\n"
     ]
    }
   ],
   "source": [
    "%%writefile model.py\n",
    "import mlrun\n",
    "\n",
    "from cloudpickle import load\n",
    "from sklearn.datasets import load_iris\n",
    "import numpy as np\n",
    "\n",
    "import warnings\n",
    "\n",
    "warnings.filterwarnings(\"ignore\")\n",
    "\n",
    "class ClassifierModel(mlrun.serving.V2ModelServer):\n",
    "    def load(self):\n",
    "        \"\"\"load and initialize the model and/or other elements\"\"\"\n",
    "        model_file, extra_data = self.get_model(\".pkl\")\n",
    "        self.model = load(open(model_file, \"rb\"))\n",
    "\n",
    "    def predict(self, body: dict) -> list:\n",
    "        \"\"\"Generate model predictions from sample.\"\"\"\n",
    "        feats = np.asarray(body[\"inputs\"])\n",
    "        result: np.ndarray = self.model.predict(feats)\n",
    "        return result.tolist()"
   ]
  },
  {
   "cell_type": "code",
   "execution_count": 22,
   "id": "d7eec9b7",
   "metadata": {},
   "outputs": [
    {
     "data": {
      "text/plain": [
       "<mlrun.serving.states.TaskStep at 0x7fc8287e0650>"
      ]
     },
     "execution_count": 22,
     "metadata": {},
     "output_type": "execute_result"
    }
   ],
   "source": [
    "serve = mlrun.code_to_function(\n",
    "    name=\"model-server\",\n",
    "    filename=\"model.py\",\n",
    "    kind=\"serving\",\n",
    "    image=\"mlrun/mlrun\"\n",
    ")\n",
    "\n",
    "serve.add_model(\"my_model\", model_path=\"https://s3.wasabisys.com/iguazio/models/iris/model.pkl\", class_name=\"ClassifierModel\")"
   ]
  },
  {
   "cell_type": "code",
   "execution_count": 23,
   "id": "47503cc9",
   "metadata": {},
   "outputs": [
    {
     "name": "stdout",
     "output_type": "stream",
     "text": [
      "> 2022-09-06 17:05:07,875 [info] Starting remote function deploy\n",
      "2022-09-06 17:05:08  (info) Deploying function\n",
      "2022-09-06 17:05:08  (info) Building\n",
      "2022-09-06 17:05:08  (info) Staging files and preparing base images\n",
      "2022-09-06 17:05:08  (info) Building processor image\n",
      "2022-09-06 17:06:13  (info) Build complete\n",
      "2022-09-06 17:07:09  (info) Function deploy complete\n",
      "> 2022-09-06 17:07:10,088 [info] successfully deployed function: {'internal_invocation_urls': ['nuclio-berkeley-mlops-model-server.default-tenant.svc.cluster.local:8080'], 'external_invocation_urls': ['berkeley-mlops-model-server-berkeley-mlops.default-tenant.app.us-sales-350.iguazio-cd1.com/']}\n"
     ]
    }
   ],
   "source": [
    "url = serve.deploy()"
   ]
  },
  {
   "cell_type": "code",
   "execution_count": 24,
   "id": "ec0d3bc8",
   "metadata": {},
   "outputs": [
    {
     "data": {
      "text/plain": [
       "'http://berkeley-mlops-model-server-berkeley-mlops.default-tenant.app.us-sales-350.iguazio-cd1.com/'"
      ]
     },
     "execution_count": 24,
     "metadata": {},
     "output_type": "execute_result"
    }
   ],
   "source": [
    "url"
   ]
  },
  {
   "cell_type": "code",
   "execution_count": 26,
   "id": "2c49002e",
   "metadata": {},
   "outputs": [
    {
     "data": {
      "text/plain": [
       "{'name': 'ModelRouter', 'version': 'v2', 'extensions': []}"
      ]
     },
     "execution_count": 26,
     "metadata": {},
     "output_type": "execute_result"
    }
   ],
   "source": [
    "requests.get(url).json()"
   ]
  },
  {
   "cell_type": "code",
   "execution_count": 27,
   "id": "9b346d06",
   "metadata": {},
   "outputs": [
    {
     "data": {
      "text/plain": [
       "{'models': ['my_model']}"
      ]
     },
     "execution_count": 27,
     "metadata": {},
     "output_type": "execute_result"
    }
   ],
   "source": [
    "requests.get(f\"{url}/v2/models\").json()"
   ]
  },
  {
   "cell_type": "code",
   "execution_count": 39,
   "id": "b991d86d",
   "metadata": {},
   "outputs": [],
   "source": [
    "data = {\n",
    "    \"inputs\" : [\n",
    "        [5.1, 3.5, 1.4, 0.2],\n",
    "        [4.9, 3.0, 1.4, 0.2],\n",
    "        [2.6, 3.4, 3.2, 4.3]\n",
    "    ]\n",
    "}"
   ]
  },
  {
   "cell_type": "code",
   "execution_count": 40,
   "id": "ced6f214",
   "metadata": {},
   "outputs": [
    {
     "data": {
      "text/plain": [
       "{'id': 'e60e6125-d80d-44af-b502-98925e0053ad',\n",
       " 'model_name': 'my_model',\n",
       " 'outputs': [0, 0, 1]}"
      ]
     },
     "execution_count": 40,
     "metadata": {},
     "output_type": "execute_result"
    }
   ],
   "source": [
    "requests.post(f\"{url}/v2/models/my_model/predict\", json=data).json()"
   ]
  },
  {
   "cell_type": "code",
   "execution_count": null,
   "id": "0cf24ddf",
   "metadata": {},
   "outputs": [],
   "source": []
  }
 ],
 "metadata": {
  "kernelspec": {
   "display_name": "Python [conda env:root] *",
   "language": "python",
   "name": "conda-root-py"
  },
  "language_info": {
   "codemirror_mode": {
    "name": "ipython",
    "version": 3
   },
   "file_extension": ".py",
   "mimetype": "text/x-python",
   "name": "python",
   "nbconvert_exporter": "python",
   "pygments_lexer": "ipython3",
   "version": "3.7.6"
  }
 },
 "nbformat": 4,
 "nbformat_minor": 5
}
