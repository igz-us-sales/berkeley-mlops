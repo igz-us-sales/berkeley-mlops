{
 "cells": [
  {
   "cell_type": "markdown",
   "id": "a3f2fb53",
   "metadata": {},
   "source": [
    "# Feature Store as a Hub for ML"
   ]
  },
  {
   "cell_type": "markdown",
   "id": "51f6fad2",
   "metadata": {},
   "source": [
    "## Setup Project\n",
    "\n",
    "Create project to separate resources."
   ]
  },
  {
   "cell_type": "code",
   "execution_count": 1,
   "id": "2fce2f10",
   "metadata": {},
   "outputs": [],
   "source": [
    "import pandas as pd\n",
    "import mlrun\n",
    "import mlrun.feature_store as fstore\n",
    "from mlrun.datastore.sources import DataFrameSource, CSVSource, ParquetSource"
   ]
  },
  {
   "cell_type": "code",
   "execution_count": 2,
   "id": "a463479f",
   "metadata": {},
   "outputs": [
    {
     "name": "stdout",
     "output_type": "stream",
     "text": [
      "> 2022-09-06 17:35:06,189 [info] loaded project berkeley-mlops from MLRun DB\n"
     ]
    }
   ],
   "source": [
    "project = mlrun.get_or_create_project(name=\"berkeley-mlops\", context=\".\")"
   ]
  },
  {
   "cell_type": "markdown",
   "id": "eae9032f",
   "metadata": {},
   "source": [
    "---"
   ]
  },
  {
   "cell_type": "markdown",
   "id": "a57dac84",
   "metadata": {},
   "source": [
    "## Ingest"
   ]
  },
  {
   "cell_type": "markdown",
   "id": "c3a0c87b",
   "metadata": {},
   "source": [
    "### What data are we using?"
   ]
  },
  {
   "cell_type": "markdown",
   "id": "95239efc",
   "metadata": {},
   "source": [
    "We will be using a simple heart disease dataset for ingestion and retrieval. The dataset itself will be separated across 3 different files to simulate multiple data sources. However, there is a single `patiend_id` column that is the same across all datasets and will be used to join them together."
   ]
  },
  {
   "cell_type": "markdown",
   "id": "a32b6443",
   "metadata": {},
   "source": [
    "---"
   ]
  },
  {
   "cell_type": "markdown",
   "id": "6cbf0141",
   "metadata": {},
   "source": [
    "### Define Feature Sets"
   ]
  },
  {
   "cell_type": "markdown",
   "id": "b7200459",
   "metadata": {},
   "source": [
    "We will need to define a `Feature Set` per data source. This will look something like the following:"
   ]
  },
  {
   "cell_type": "code",
   "execution_count": 3,
   "id": "37b5af55",
   "metadata": {},
   "outputs": [],
   "source": [
    "categorical_fset = fstore.FeatureSet(\n",
    "    name=\"heart-disease-categorical\",\n",
    "    entities=[fstore.Entity(\"patient_id\")],\n",
    "    description=\"Categorical columns for heart disease dataset\"\n",
    ")"
   ]
  },
  {
   "cell_type": "code",
   "execution_count": 4,
   "id": "fbc49e06",
   "metadata": {},
   "outputs": [],
   "source": [
    "continuous_fset = fstore.FeatureSet(\n",
    "    name=\"heart-disease-continuous\",\n",
    "    entities=[fstore.Entity(\"patient_id\")],\n",
    "    description=\"Continuous columns for heart disease dataset\"\n",
    ")"
   ]
  },
  {
   "cell_type": "code",
   "execution_count": 5,
   "id": "355960fa",
   "metadata": {},
   "outputs": [],
   "source": [
    "target_fset = fstore.FeatureSet(\n",
    "    name=\"heart-disease-target\",\n",
    "    entities=[fstore.Entity(\"patient_id\")],\n",
    "    description=\"Target column for heart disease dataset\"\n",
    ")"
   ]
  },
  {
   "cell_type": "markdown",
   "id": "332d94f3",
   "metadata": {},
   "source": [
    "---"
   ]
  },
  {
   "cell_type": "markdown",
   "id": "435a98dc",
   "metadata": {},
   "source": [
    "### Ingest Data into Feature Sets"
   ]
  },
  {
   "cell_type": "markdown",
   "id": "e927cd76",
   "metadata": {},
   "source": [
    "Now that our `Feature Sets` are defined, we can ingest data into them as follows. We will be using the `DataFrameSource`, `CSVSource`, and `ParquetSource` for this example, although you could use just one."
   ]
  },
  {
   "cell_type": "markdown",
   "id": "0250968d",
   "metadata": {},
   "source": [
    "#### Ingest Categorical data using DataFrameSource"
   ]
  },
  {
   "cell_type": "code",
   "execution_count": 6,
   "id": "d8a63dca",
   "metadata": {},
   "outputs": [],
   "source": [
    "categorical_df = pd.read_csv(\"data/heart_disease_categorical.csv\")"
   ]
  },
  {
   "cell_type": "code",
   "execution_count": 7,
   "id": "7c0423f5",
   "metadata": {},
   "outputs": [
    {
     "name": "stderr",
     "output_type": "stream",
     "text": [
      "Converting input from bool to <class 'numpy.uint8'> for compatibility.\n"
     ]
    },
    {
     "data": {
      "text/html": [
       "<div>\n",
       "<style scoped>\n",
       "    .dataframe tbody tr th:only-of-type {\n",
       "        vertical-align: middle;\n",
       "    }\n",
       "\n",
       "    .dataframe tbody tr th {\n",
       "        vertical-align: top;\n",
       "    }\n",
       "\n",
       "    .dataframe thead th {\n",
       "        text-align: right;\n",
       "    }\n",
       "</style>\n",
       "<table border=\"1\" class=\"dataframe\">\n",
       "  <thead>\n",
       "    <tr style=\"text-align: right;\">\n",
       "      <th></th>\n",
       "      <th>age</th>\n",
       "      <th>sex</th>\n",
       "      <th>cp</th>\n",
       "      <th>exang</th>\n",
       "      <th>fbs</th>\n",
       "      <th>slope</th>\n",
       "      <th>thal</th>\n",
       "    </tr>\n",
       "    <tr>\n",
       "      <th>patient_id</th>\n",
       "      <th></th>\n",
       "      <th></th>\n",
       "      <th></th>\n",
       "      <th></th>\n",
       "      <th></th>\n",
       "      <th></th>\n",
       "      <th></th>\n",
       "    </tr>\n",
       "  </thead>\n",
       "  <tbody>\n",
       "    <tr>\n",
       "      <th>e443544b-8d9e-4f6c-9623-e24b6139aae0</th>\n",
       "      <td>52</td>\n",
       "      <td>male</td>\n",
       "      <td>typical_angina</td>\n",
       "      <td>no</td>\n",
       "      <td>False</td>\n",
       "      <td>downsloping</td>\n",
       "      <td>normal</td>\n",
       "    </tr>\n",
       "    <tr>\n",
       "      <th>8227d3df-16ab-4452-8ea5-99472362d982</th>\n",
       "      <td>53</td>\n",
       "      <td>male</td>\n",
       "      <td>typical_angina</td>\n",
       "      <td>yes</td>\n",
       "      <td>True</td>\n",
       "      <td>upsloping</td>\n",
       "      <td>normal</td>\n",
       "    </tr>\n",
       "    <tr>\n",
       "      <th>10c4b4ba-ab40-44de-8aba-6bdb062192c4</th>\n",
       "      <td>70</td>\n",
       "      <td>male</td>\n",
       "      <td>typical_angina</td>\n",
       "      <td>yes</td>\n",
       "      <td>False</td>\n",
       "      <td>upsloping</td>\n",
       "      <td>normal</td>\n",
       "    </tr>\n",
       "    <tr>\n",
       "      <th>f0acdc22-7ee6-4817-a671-e136211bc0a6</th>\n",
       "      <td>61</td>\n",
       "      <td>male</td>\n",
       "      <td>typical_angina</td>\n",
       "      <td>no</td>\n",
       "      <td>False</td>\n",
       "      <td>downsloping</td>\n",
       "      <td>normal</td>\n",
       "    </tr>\n",
       "    <tr>\n",
       "      <th>2d6b3bca-4841-4618-9a8c-ca902010b009</th>\n",
       "      <td>62</td>\n",
       "      <td>female</td>\n",
       "      <td>typical_angina</td>\n",
       "      <td>no</td>\n",
       "      <td>True</td>\n",
       "      <td>flat</td>\n",
       "      <td>reversable_defect</td>\n",
       "    </tr>\n",
       "    <tr>\n",
       "      <th>...</th>\n",
       "      <td>...</td>\n",
       "      <td>...</td>\n",
       "      <td>...</td>\n",
       "      <td>...</td>\n",
       "      <td>...</td>\n",
       "      <td>...</td>\n",
       "      <td>...</td>\n",
       "    </tr>\n",
       "    <tr>\n",
       "      <th>5d2fc80f-ed64-4e1c-9c95-3baace09118b</th>\n",
       "      <td>59</td>\n",
       "      <td>male</td>\n",
       "      <td>atypical_angina</td>\n",
       "      <td>yes</td>\n",
       "      <td>False</td>\n",
       "      <td>downsloping</td>\n",
       "      <td>reversable_defect</td>\n",
       "    </tr>\n",
       "    <tr>\n",
       "      <th>01548a7e-0f68-4308-80de-cd93fdbfb903</th>\n",
       "      <td>60</td>\n",
       "      <td>male</td>\n",
       "      <td>typical_angina</td>\n",
       "      <td>yes</td>\n",
       "      <td>False</td>\n",
       "      <td>flat</td>\n",
       "      <td>normal</td>\n",
       "    </tr>\n",
       "    <tr>\n",
       "      <th>f8c97cc1-8a3a-4b8e-965c-58e75c2379e6</th>\n",
       "      <td>47</td>\n",
       "      <td>male</td>\n",
       "      <td>typical_angina</td>\n",
       "      <td>yes</td>\n",
       "      <td>False</td>\n",
       "      <td>flat</td>\n",
       "      <td>reversable_defect</td>\n",
       "    </tr>\n",
       "    <tr>\n",
       "      <th>d7fc9e01-b792-44da-88fa-a0057527da3f</th>\n",
       "      <td>50</td>\n",
       "      <td>female</td>\n",
       "      <td>typical_angina</td>\n",
       "      <td>no</td>\n",
       "      <td>False</td>\n",
       "      <td>downsloping</td>\n",
       "      <td>reversable_defect</td>\n",
       "    </tr>\n",
       "    <tr>\n",
       "      <th>8f2a32fc-9424-4bdc-aac1-3c493675fa48</th>\n",
       "      <td>54</td>\n",
       "      <td>male</td>\n",
       "      <td>typical_angina</td>\n",
       "      <td>no</td>\n",
       "      <td>False</td>\n",
       "      <td>flat</td>\n",
       "      <td>normal</td>\n",
       "    </tr>\n",
       "  </tbody>\n",
       "</table>\n",
       "<p>968 rows × 7 columns</p>\n",
       "</div>"
      ],
      "text/plain": [
       "                                      age     sex               cp exang  \\\n",
       "patient_id                                                                 \n",
       "e443544b-8d9e-4f6c-9623-e24b6139aae0   52    male   typical_angina    no   \n",
       "8227d3df-16ab-4452-8ea5-99472362d982   53    male   typical_angina   yes   \n",
       "10c4b4ba-ab40-44de-8aba-6bdb062192c4   70    male   typical_angina   yes   \n",
       "f0acdc22-7ee6-4817-a671-e136211bc0a6   61    male   typical_angina    no   \n",
       "2d6b3bca-4841-4618-9a8c-ca902010b009   62  female   typical_angina    no   \n",
       "...                                   ...     ...              ...   ...   \n",
       "5d2fc80f-ed64-4e1c-9c95-3baace09118b   59    male  atypical_angina   yes   \n",
       "01548a7e-0f68-4308-80de-cd93fdbfb903   60    male   typical_angina   yes   \n",
       "f8c97cc1-8a3a-4b8e-965c-58e75c2379e6   47    male   typical_angina   yes   \n",
       "d7fc9e01-b792-44da-88fa-a0057527da3f   50  female   typical_angina    no   \n",
       "8f2a32fc-9424-4bdc-aac1-3c493675fa48   54    male   typical_angina    no   \n",
       "\n",
       "                                        fbs        slope               thal  \n",
       "patient_id                                                                   \n",
       "e443544b-8d9e-4f6c-9623-e24b6139aae0  False  downsloping             normal  \n",
       "8227d3df-16ab-4452-8ea5-99472362d982   True    upsloping             normal  \n",
       "10c4b4ba-ab40-44de-8aba-6bdb062192c4  False    upsloping             normal  \n",
       "f0acdc22-7ee6-4817-a671-e136211bc0a6  False  downsloping             normal  \n",
       "2d6b3bca-4841-4618-9a8c-ca902010b009   True         flat  reversable_defect  \n",
       "...                                     ...          ...                ...  \n",
       "5d2fc80f-ed64-4e1c-9c95-3baace09118b  False  downsloping  reversable_defect  \n",
       "01548a7e-0f68-4308-80de-cd93fdbfb903  False         flat             normal  \n",
       "f8c97cc1-8a3a-4b8e-965c-58e75c2379e6  False         flat  reversable_defect  \n",
       "d7fc9e01-b792-44da-88fa-a0057527da3f  False  downsloping  reversable_defect  \n",
       "8f2a32fc-9424-4bdc-aac1-3c493675fa48  False         flat             normal  \n",
       "\n",
       "[968 rows x 7 columns]"
      ]
     },
     "execution_count": 7,
     "metadata": {},
     "output_type": "execute_result"
    }
   ],
   "source": [
    "fstore.ingest(\n",
    "    featureset=categorical_fset,\n",
    "    source=DataFrameSource(df=categorical_df)  # Use DataFrameSource and pandas dataframe from above\n",
    ")"
   ]
  },
  {
   "cell_type": "markdown",
   "id": "f91dbc35",
   "metadata": {},
   "source": [
    "#### Ingest Continuous data using CSVSource"
   ]
  },
  {
   "cell_type": "code",
   "execution_count": 8,
   "id": "3d955787",
   "metadata": {},
   "outputs": [
    {
     "data": {
      "text/html": [
       "<div>\n",
       "<style scoped>\n",
       "    .dataframe tbody tr th:only-of-type {\n",
       "        vertical-align: middle;\n",
       "    }\n",
       "\n",
       "    .dataframe tbody tr th {\n",
       "        vertical-align: top;\n",
       "    }\n",
       "\n",
       "    .dataframe thead th {\n",
       "        text-align: right;\n",
       "    }\n",
       "</style>\n",
       "<table border=\"1\" class=\"dataframe\">\n",
       "  <thead>\n",
       "    <tr style=\"text-align: right;\">\n",
       "      <th></th>\n",
       "      <th>trestbps</th>\n",
       "      <th>chol</th>\n",
       "      <th>restecg</th>\n",
       "      <th>thalach</th>\n",
       "      <th>oldpeak</th>\n",
       "      <th>ca</th>\n",
       "    </tr>\n",
       "    <tr>\n",
       "      <th>patient_id</th>\n",
       "      <th></th>\n",
       "      <th></th>\n",
       "      <th></th>\n",
       "      <th></th>\n",
       "      <th></th>\n",
       "      <th></th>\n",
       "    </tr>\n",
       "  </thead>\n",
       "  <tbody>\n",
       "    <tr>\n",
       "      <th>e443544b-8d9e-4f6c-9623-e24b6139aae0</th>\n",
       "      <td>125</td>\n",
       "      <td>212</td>\n",
       "      <td>1</td>\n",
       "      <td>168</td>\n",
       "      <td>1.0</td>\n",
       "      <td>2.0</td>\n",
       "    </tr>\n",
       "    <tr>\n",
       "      <th>8227d3df-16ab-4452-8ea5-99472362d982</th>\n",
       "      <td>140</td>\n",
       "      <td>203</td>\n",
       "      <td>0</td>\n",
       "      <td>155</td>\n",
       "      <td>3.1</td>\n",
       "      <td>0.0</td>\n",
       "    </tr>\n",
       "    <tr>\n",
       "      <th>10c4b4ba-ab40-44de-8aba-6bdb062192c4</th>\n",
       "      <td>145</td>\n",
       "      <td>174</td>\n",
       "      <td>1</td>\n",
       "      <td>125</td>\n",
       "      <td>2.6</td>\n",
       "      <td>0.0</td>\n",
       "    </tr>\n",
       "    <tr>\n",
       "      <th>f0acdc22-7ee6-4817-a671-e136211bc0a6</th>\n",
       "      <td>148</td>\n",
       "      <td>203</td>\n",
       "      <td>1</td>\n",
       "      <td>161</td>\n",
       "      <td>0.0</td>\n",
       "      <td>1.0</td>\n",
       "    </tr>\n",
       "    <tr>\n",
       "      <th>2d6b3bca-4841-4618-9a8c-ca902010b009</th>\n",
       "      <td>138</td>\n",
       "      <td>294</td>\n",
       "      <td>1</td>\n",
       "      <td>106</td>\n",
       "      <td>1.9</td>\n",
       "      <td>3.0</td>\n",
       "    </tr>\n",
       "    <tr>\n",
       "      <th>...</th>\n",
       "      <td>...</td>\n",
       "      <td>...</td>\n",
       "      <td>...</td>\n",
       "      <td>...</td>\n",
       "      <td>...</td>\n",
       "      <td>...</td>\n",
       "    </tr>\n",
       "    <tr>\n",
       "      <th>5d2fc80f-ed64-4e1c-9c95-3baace09118b</th>\n",
       "      <td>140</td>\n",
       "      <td>221</td>\n",
       "      <td>1</td>\n",
       "      <td>164</td>\n",
       "      <td>0.0</td>\n",
       "      <td>0.0</td>\n",
       "    </tr>\n",
       "    <tr>\n",
       "      <th>01548a7e-0f68-4308-80de-cd93fdbfb903</th>\n",
       "      <td>125</td>\n",
       "      <td>258</td>\n",
       "      <td>0</td>\n",
       "      <td>141</td>\n",
       "      <td>2.8</td>\n",
       "      <td>1.0</td>\n",
       "    </tr>\n",
       "    <tr>\n",
       "      <th>f8c97cc1-8a3a-4b8e-965c-58e75c2379e6</th>\n",
       "      <td>110</td>\n",
       "      <td>275</td>\n",
       "      <td>0</td>\n",
       "      <td>118</td>\n",
       "      <td>1.0</td>\n",
       "      <td>1.0</td>\n",
       "    </tr>\n",
       "    <tr>\n",
       "      <th>d7fc9e01-b792-44da-88fa-a0057527da3f</th>\n",
       "      <td>110</td>\n",
       "      <td>254</td>\n",
       "      <td>0</td>\n",
       "      <td>159</td>\n",
       "      <td>0.0</td>\n",
       "      <td>0.0</td>\n",
       "    </tr>\n",
       "    <tr>\n",
       "      <th>8f2a32fc-9424-4bdc-aac1-3c493675fa48</th>\n",
       "      <td>120</td>\n",
       "      <td>188</td>\n",
       "      <td>1</td>\n",
       "      <td>113</td>\n",
       "      <td>1.4</td>\n",
       "      <td>1.0</td>\n",
       "    </tr>\n",
       "  </tbody>\n",
       "</table>\n",
       "<p>968 rows × 6 columns</p>\n",
       "</div>"
      ],
      "text/plain": [
       "                                      trestbps  chol  restecg  thalach  \\\n",
       "patient_id                                                               \n",
       "e443544b-8d9e-4f6c-9623-e24b6139aae0       125   212        1      168   \n",
       "8227d3df-16ab-4452-8ea5-99472362d982       140   203        0      155   \n",
       "10c4b4ba-ab40-44de-8aba-6bdb062192c4       145   174        1      125   \n",
       "f0acdc22-7ee6-4817-a671-e136211bc0a6       148   203        1      161   \n",
       "2d6b3bca-4841-4618-9a8c-ca902010b009       138   294        1      106   \n",
       "...                                        ...   ...      ...      ...   \n",
       "5d2fc80f-ed64-4e1c-9c95-3baace09118b       140   221        1      164   \n",
       "01548a7e-0f68-4308-80de-cd93fdbfb903       125   258        0      141   \n",
       "f8c97cc1-8a3a-4b8e-965c-58e75c2379e6       110   275        0      118   \n",
       "d7fc9e01-b792-44da-88fa-a0057527da3f       110   254        0      159   \n",
       "8f2a32fc-9424-4bdc-aac1-3c493675fa48       120   188        1      113   \n",
       "\n",
       "                                      oldpeak   ca  \n",
       "patient_id                                          \n",
       "e443544b-8d9e-4f6c-9623-e24b6139aae0      1.0  2.0  \n",
       "8227d3df-16ab-4452-8ea5-99472362d982      3.1  0.0  \n",
       "10c4b4ba-ab40-44de-8aba-6bdb062192c4      2.6  0.0  \n",
       "f0acdc22-7ee6-4817-a671-e136211bc0a6      0.0  1.0  \n",
       "2d6b3bca-4841-4618-9a8c-ca902010b009      1.9  3.0  \n",
       "...                                       ...  ...  \n",
       "5d2fc80f-ed64-4e1c-9c95-3baace09118b      0.0  0.0  \n",
       "01548a7e-0f68-4308-80de-cd93fdbfb903      2.8  1.0  \n",
       "f8c97cc1-8a3a-4b8e-965c-58e75c2379e6      1.0  1.0  \n",
       "d7fc9e01-b792-44da-88fa-a0057527da3f      0.0  0.0  \n",
       "8f2a32fc-9424-4bdc-aac1-3c493675fa48      1.4  1.0  \n",
       "\n",
       "[968 rows x 6 columns]"
      ]
     },
     "execution_count": 8,
     "metadata": {},
     "output_type": "execute_result"
    }
   ],
   "source": [
    "fstore.ingest(\n",
    "    featureset=continuous_fset,\n",
    "    source=CSVSource(path=\"./data/heart_disease_continuous.csv\")  # Use CSVSource and path to CSV file\n",
    ")"
   ]
  },
  {
   "cell_type": "markdown",
   "id": "3bd10f19",
   "metadata": {},
   "source": [
    "#### Ingest Target data using ParquetSource"
   ]
  },
  {
   "cell_type": "code",
   "execution_count": 9,
   "id": "37727942",
   "metadata": {},
   "outputs": [
    {
     "data": {
      "text/html": [
       "<div>\n",
       "<style scoped>\n",
       "    .dataframe tbody tr th:only-of-type {\n",
       "        vertical-align: middle;\n",
       "    }\n",
       "\n",
       "    .dataframe tbody tr th {\n",
       "        vertical-align: top;\n",
       "    }\n",
       "\n",
       "    .dataframe thead th {\n",
       "        text-align: right;\n",
       "    }\n",
       "</style>\n",
       "<table border=\"1\" class=\"dataframe\">\n",
       "  <thead>\n",
       "    <tr style=\"text-align: right;\">\n",
       "      <th></th>\n",
       "      <th>target</th>\n",
       "    </tr>\n",
       "    <tr>\n",
       "      <th>patient_id</th>\n",
       "      <th></th>\n",
       "    </tr>\n",
       "  </thead>\n",
       "  <tbody>\n",
       "    <tr>\n",
       "      <th>e443544b-8d9e-4f6c-9623-e24b6139aae0</th>\n",
       "      <td>0</td>\n",
       "    </tr>\n",
       "    <tr>\n",
       "      <th>8227d3df-16ab-4452-8ea5-99472362d982</th>\n",
       "      <td>0</td>\n",
       "    </tr>\n",
       "    <tr>\n",
       "      <th>10c4b4ba-ab40-44de-8aba-6bdb062192c4</th>\n",
       "      <td>0</td>\n",
       "    </tr>\n",
       "    <tr>\n",
       "      <th>f0acdc22-7ee6-4817-a671-e136211bc0a6</th>\n",
       "      <td>0</td>\n",
       "    </tr>\n",
       "    <tr>\n",
       "      <th>2d6b3bca-4841-4618-9a8c-ca902010b009</th>\n",
       "      <td>0</td>\n",
       "    </tr>\n",
       "    <tr>\n",
       "      <th>...</th>\n",
       "      <td>...</td>\n",
       "    </tr>\n",
       "    <tr>\n",
       "      <th>5d2fc80f-ed64-4e1c-9c95-3baace09118b</th>\n",
       "      <td>1</td>\n",
       "    </tr>\n",
       "    <tr>\n",
       "      <th>01548a7e-0f68-4308-80de-cd93fdbfb903</th>\n",
       "      <td>0</td>\n",
       "    </tr>\n",
       "    <tr>\n",
       "      <th>f8c97cc1-8a3a-4b8e-965c-58e75c2379e6</th>\n",
       "      <td>0</td>\n",
       "    </tr>\n",
       "    <tr>\n",
       "      <th>d7fc9e01-b792-44da-88fa-a0057527da3f</th>\n",
       "      <td>1</td>\n",
       "    </tr>\n",
       "    <tr>\n",
       "      <th>8f2a32fc-9424-4bdc-aac1-3c493675fa48</th>\n",
       "      <td>0</td>\n",
       "    </tr>\n",
       "  </tbody>\n",
       "</table>\n",
       "<p>968 rows × 1 columns</p>\n",
       "</div>"
      ],
      "text/plain": [
       "                                      target\n",
       "patient_id                                  \n",
       "e443544b-8d9e-4f6c-9623-e24b6139aae0       0\n",
       "8227d3df-16ab-4452-8ea5-99472362d982       0\n",
       "10c4b4ba-ab40-44de-8aba-6bdb062192c4       0\n",
       "f0acdc22-7ee6-4817-a671-e136211bc0a6       0\n",
       "2d6b3bca-4841-4618-9a8c-ca902010b009       0\n",
       "...                                      ...\n",
       "5d2fc80f-ed64-4e1c-9c95-3baace09118b       1\n",
       "01548a7e-0f68-4308-80de-cd93fdbfb903       0\n",
       "f8c97cc1-8a3a-4b8e-965c-58e75c2379e6       0\n",
       "d7fc9e01-b792-44da-88fa-a0057527da3f       1\n",
       "8f2a32fc-9424-4bdc-aac1-3c493675fa48       0\n",
       "\n",
       "[968 rows x 1 columns]"
      ]
     },
     "execution_count": 9,
     "metadata": {},
     "output_type": "execute_result"
    }
   ],
   "source": [
    "fstore.ingest(\n",
    "    featureset=target_fset,\n",
    "    source=ParquetSource(path=\"./data/heart_disease_target.parquet\")  # Use ParquetSource and path to parquet file\n",
    ")"
   ]
  },
  {
   "cell_type": "markdown",
   "id": "2cc8f26e",
   "metadata": {},
   "source": [
    "---"
   ]
  },
  {
   "cell_type": "markdown",
   "id": "fa2dbe87",
   "metadata": {},
   "source": [
    "## Retrieve"
   ]
  },
  {
   "cell_type": "markdown",
   "id": "55a6c3d3",
   "metadata": {},
   "source": [
    "### Define Feature Vector"
   ]
  },
  {
   "cell_type": "markdown",
   "id": "423230e4",
   "metadata": {},
   "source": [
    "Our `Feature Vector` will allow us to join and retrieve the 3 previous `Feature Sets` together as a single dataset. We can define it like so:"
   ]
  },
  {
   "cell_type": "code",
   "execution_count": 10,
   "id": "5a19e1fb",
   "metadata": {},
   "outputs": [],
   "source": [
    "fvec = fstore.FeatureVector(\n",
    "    name=\"heart-disease-vector\",\n",
    "    features=[\"heart-disease-categorical.*\", \"heart-disease-continuous.*\"],\n",
    "    description=\"Heart disease dataset\",\n",
    "    label_feature=\"heart-disease-target.target\"\n",
    ")\n",
    "fvec.save()"
   ]
  },
  {
   "cell_type": "markdown",
   "id": "3dc64f63",
   "metadata": {},
   "source": [
    "### Retrieve Feature Vector as Dataframe (Training)"
   ]
  },
  {
   "cell_type": "markdown",
   "id": "788532ae",
   "metadata": {},
   "source": [
    "In order to retrieve our `Feature Vector`, we just need to specify the project and name of the vector.\n",
    "\n",
    "One of the most common ways to retrieve your dataset is as a dataframe. This is very simple to do:"
   ]
  },
  {
   "cell_type": "code",
   "execution_count": 11,
   "id": "260cccbc",
   "metadata": {},
   "outputs": [
    {
     "data": {
      "text/html": [
       "<div>\n",
       "<style scoped>\n",
       "    .dataframe tbody tr th:only-of-type {\n",
       "        vertical-align: middle;\n",
       "    }\n",
       "\n",
       "    .dataframe tbody tr th {\n",
       "        vertical-align: top;\n",
       "    }\n",
       "\n",
       "    .dataframe thead th {\n",
       "        text-align: right;\n",
       "    }\n",
       "</style>\n",
       "<table border=\"1\" class=\"dataframe\">\n",
       "  <thead>\n",
       "    <tr style=\"text-align: right;\">\n",
       "      <th></th>\n",
       "      <th>age</th>\n",
       "      <th>sex</th>\n",
       "      <th>cp</th>\n",
       "      <th>exang</th>\n",
       "      <th>fbs</th>\n",
       "      <th>slope</th>\n",
       "      <th>thal</th>\n",
       "      <th>trestbps</th>\n",
       "      <th>chol</th>\n",
       "      <th>restecg</th>\n",
       "      <th>thalach</th>\n",
       "      <th>oldpeak</th>\n",
       "      <th>ca</th>\n",
       "      <th>target</th>\n",
       "    </tr>\n",
       "  </thead>\n",
       "  <tbody>\n",
       "    <tr>\n",
       "      <th>0</th>\n",
       "      <td>52</td>\n",
       "      <td>male</td>\n",
       "      <td>typical_angina</td>\n",
       "      <td>no</td>\n",
       "      <td>False</td>\n",
       "      <td>downsloping</td>\n",
       "      <td>normal</td>\n",
       "      <td>125</td>\n",
       "      <td>212</td>\n",
       "      <td>1</td>\n",
       "      <td>168</td>\n",
       "      <td>1.0</td>\n",
       "      <td>2.0</td>\n",
       "      <td>0</td>\n",
       "    </tr>\n",
       "    <tr>\n",
       "      <th>1</th>\n",
       "      <td>53</td>\n",
       "      <td>male</td>\n",
       "      <td>typical_angina</td>\n",
       "      <td>yes</td>\n",
       "      <td>True</td>\n",
       "      <td>upsloping</td>\n",
       "      <td>normal</td>\n",
       "      <td>140</td>\n",
       "      <td>203</td>\n",
       "      <td>0</td>\n",
       "      <td>155</td>\n",
       "      <td>3.1</td>\n",
       "      <td>0.0</td>\n",
       "      <td>0</td>\n",
       "    </tr>\n",
       "    <tr>\n",
       "      <th>2</th>\n",
       "      <td>70</td>\n",
       "      <td>male</td>\n",
       "      <td>typical_angina</td>\n",
       "      <td>yes</td>\n",
       "      <td>False</td>\n",
       "      <td>upsloping</td>\n",
       "      <td>normal</td>\n",
       "      <td>145</td>\n",
       "      <td>174</td>\n",
       "      <td>1</td>\n",
       "      <td>125</td>\n",
       "      <td>2.6</td>\n",
       "      <td>0.0</td>\n",
       "      <td>0</td>\n",
       "    </tr>\n",
       "    <tr>\n",
       "      <th>3</th>\n",
       "      <td>61</td>\n",
       "      <td>male</td>\n",
       "      <td>typical_angina</td>\n",
       "      <td>no</td>\n",
       "      <td>False</td>\n",
       "      <td>downsloping</td>\n",
       "      <td>normal</td>\n",
       "      <td>148</td>\n",
       "      <td>203</td>\n",
       "      <td>1</td>\n",
       "      <td>161</td>\n",
       "      <td>0.0</td>\n",
       "      <td>1.0</td>\n",
       "      <td>0</td>\n",
       "    </tr>\n",
       "    <tr>\n",
       "      <th>4</th>\n",
       "      <td>62</td>\n",
       "      <td>female</td>\n",
       "      <td>typical_angina</td>\n",
       "      <td>no</td>\n",
       "      <td>True</td>\n",
       "      <td>flat</td>\n",
       "      <td>reversable_defect</td>\n",
       "      <td>138</td>\n",
       "      <td>294</td>\n",
       "      <td>1</td>\n",
       "      <td>106</td>\n",
       "      <td>1.9</td>\n",
       "      <td>3.0</td>\n",
       "      <td>0</td>\n",
       "    </tr>\n",
       "  </tbody>\n",
       "</table>\n",
       "</div>"
      ],
      "text/plain": [
       "   age     sex              cp exang    fbs        slope               thal  \\\n",
       "0   52    male  typical_angina    no  False  downsloping             normal   \n",
       "1   53    male  typical_angina   yes   True    upsloping             normal   \n",
       "2   70    male  typical_angina   yes  False    upsloping             normal   \n",
       "3   61    male  typical_angina    no  False  downsloping             normal   \n",
       "4   62  female  typical_angina    no   True         flat  reversable_defect   \n",
       "\n",
       "   trestbps  chol  restecg  thalach  oldpeak   ca  target  \n",
       "0       125   212        1      168      1.0  2.0       0  \n",
       "1       140   203        0      155      3.1  0.0       0  \n",
       "2       145   174        1      125      2.6  0.0       0  \n",
       "3       148   203        1      161      0.0  1.0       0  \n",
       "4       138   294        1      106      1.9  3.0       0  "
      ]
     },
     "execution_count": 11,
     "metadata": {},
     "output_type": "execute_result"
    }
   ],
   "source": [
    "df = fstore.get_offline_features(\"heart-disease-vector\").to_dataframe()\n",
    "df.head()"
   ]
  },
  {
   "cell_type": "markdown",
   "id": "3408c62c",
   "metadata": {},
   "source": [
    "### Retrieve Records in Real-Time (Serving)"
   ]
  },
  {
   "cell_type": "markdown",
   "id": "e2655ade",
   "metadata": {},
   "source": [
    "In addition to retrieving the entire dataset in batch, you can also retrieve individual records in real-time using their `Entity`. This is useful for enriching incoming records and imputing missing values.\n",
    "\n",
    "To retrieve records in real-time, we can create an online feature service like so:"
   ]
  },
  {
   "cell_type": "code",
   "execution_count": 12,
   "id": "5a7dd170",
   "metadata": {},
   "outputs": [],
   "source": [
    "feature_service = fstore.get_online_feature_service(feature_vector=\"heart-disease-vector\")"
   ]
  },
  {
   "cell_type": "markdown",
   "id": "20d5d9d7",
   "metadata": {},
   "source": [
    "Then, we can retrieve a record like so:"
   ]
  },
  {
   "cell_type": "code",
   "execution_count": 13,
   "id": "3568772c",
   "metadata": {},
   "outputs": [
    {
     "data": {
      "text/plain": [
       "[{'age': 52,\n",
       "  'sex': 'male',\n",
       "  'cp': 'typical_angina',\n",
       "  'exang': 'no',\n",
       "  'fbs': False,\n",
       "  'slope': 'downsloping',\n",
       "  'thal': 'normal',\n",
       "  'trestbps': 125,\n",
       "  'chol': 212,\n",
       "  'restecg': 1,\n",
       "  'thalach': 168,\n",
       "  'oldpeak': 1.0,\n",
       "  'ca': 2.0},\n",
       " {'age': 53,\n",
       "  'sex': 'male',\n",
       "  'cp': 'typical_angina',\n",
       "  'exang': 'yes',\n",
       "  'fbs': True,\n",
       "  'slope': 'upsloping',\n",
       "  'thal': 'normal',\n",
       "  'trestbps': 140,\n",
       "  'chol': 203,\n",
       "  'restecg': 0,\n",
       "  'thalach': 155,\n",
       "  'oldpeak': 3.1,\n",
       "  'ca': 0.0}]"
      ]
     },
     "execution_count": 13,
     "metadata": {},
     "output_type": "execute_result"
    }
   ],
   "source": [
    "feature_service.get(\n",
    "    [\n",
    "        {\"patient_id\" : \"e443544b-8d9e-4f6c-9623-e24b6139aae0\"},\n",
    "        {\"patient_id\" : \"8227d3df-16ab-4452-8ea5-99472362d982\"}\n",
    "    ]\n",
    ")"
   ]
  },
  {
   "cell_type": "code",
   "execution_count": null,
   "id": "f4839112",
   "metadata": {},
   "outputs": [],
   "source": []
  }
 ],
 "metadata": {
  "kernelspec": {
   "display_name": "Python [conda env:root] *",
   "language": "python",
   "name": "conda-root-py"
  },
  "language_info": {
   "codemirror_mode": {
    "name": "ipython",
    "version": 3
   },
   "file_extension": ".py",
   "mimetype": "text/x-python",
   "name": "python",
   "nbconvert_exporter": "python",
   "pygments_lexer": "ipython3",
   "version": "3.7.6"
  }
 },
 "nbformat": 4,
 "nbformat_minor": 5
}
